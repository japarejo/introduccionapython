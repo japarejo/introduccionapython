{
 "cells": [
  {
   "cell_type": "markdown",
   "id": "e29735e5-4c46-4e5d-99a3-d9d93c4799b8",
   "metadata": {},
   "source": [
    "# NumPy\n",
    "\n",
    "NumPy es una biblioteca de Python utilizada para trabajar con matrices.\n",
    "\n",
    "También tiene funciones para trabajar en el dominio del álgebra lineal, la transformada de Fourier y las matrices.\n",
    "\n",
    "NumPy fue creado en 2005 por Travis Oliphant. Es un proyecto de código abierto y se puede utilizar libremente.\n",
    "\n",
    "NumPy significa Numerical Python.\n",
    "\n",
    "En Python tenemos las listas que cumplen la función de los arrays, pero son lentas.\n",
    "\n",
    "NumPy pretende proporcionar un objeto array que sea hasta 50 veces más rápido que las listas tradicionales de Python.\n",
    "\n",
    "El objeto array en NumPy se llama ndarray, y proporciona un montón de funciones de apoyo que hacen que trabajar con ndarray sea muy fácil.\n",
    "\n",
    "Los arrays se utilizan con mucha frecuencia en la ciencia de datos, donde la velocidad y el consumo de los recursos son muy importantes.\n",
    "\n",
    "NumPy es una biblioteca de Python y está escrita parcialmente en Python, pero la mayoría de las partes que requieren un cálculo rápido están escritas en C o C++.\n",
    "\n",
    "Para usar numpy necesitamos instalarlo primero (si estamos usando Anaconda vendrá ya pre-instalado): *pip install numpy*\n",
    "\n",
    "Una vez instalado podemos empezar a usarlo:\n",
    "\n",
    "\n",
    "\n",
    "\n"
   ]
  },
  {
   "cell_type": "code",
   "execution_count": 3,
   "id": "3a225f82-27fc-4646-9bec-035e4e44510b",
   "metadata": {},
   "outputs": [
    {
     "name": "stdout",
     "output_type": "stream",
     "text": [
      "[1 2 3 4 5]\n"
     ]
    }
   ],
   "source": [
    "import numpy as np\n",
    "\n",
    "arr = np.array([1, 2, 3, 4, 5])\n",
    "\n",
    "print(arr)"
   ]
  },
  {
   "cell_type": "markdown",
   "id": "b3b8d58c-dc44-4095-864e-30e000433212",
   "metadata": {},
   "source": [
    "Podemos crear matrices de la misma manera:"
   ]
  },
  {
   "cell_type": "code",
   "execution_count": 4,
   "id": "3e866254-33de-4568-ac06-3ed6c1f34d18",
   "metadata": {},
   "outputs": [
    {
     "name": "stdout",
     "output_type": "stream",
     "text": [
      "Segundo elemento de la primera fila:  2\n"
     ]
    }
   ],
   "source": [
    "arr = np.array([[1,2,3,4,5], [6,7,8,9,10]])\n",
    "\n",
    "print('Segundo elemento de la primera fila: ', arr[0, 1]) "
   ]
  },
  {
   "cell_type": "markdown",
   "id": "701d585e-c5fd-4210-bfe1-6207abbbe331",
   "metadata": {},
   "source": [
    "De hecho, podemos incluso crear arrays tridimensionales:"
   ]
  },
  {
   "cell_type": "code",
   "execution_count": 5,
   "id": "f832d645-d352-442e-a3ba-5849f2778338",
   "metadata": {},
   "outputs": [
    {
     "name": "stdout",
     "output_type": "stream",
     "text": [
      "6\n"
     ]
    }
   ],
   "source": [
    "arr = np.array([\n",
    "                [[1, 2, 3], [4, 5, 6]], \n",
    "                [[7, 8, 9], [10, 11, 12]]\n",
    "               ])\n",
    "\n",
    "print(arr[0, 1, 2]) "
   ]
  },
  {
   "cell_type": "markdown",
   "id": "eaa64826-e809-4d0d-8be5-102748d8f3b7",
   "metadata": {},
   "source": [
    "Por supuesto, podemos usar indexación negativa como en cualquier lista estándar:"
   ]
  },
  {
   "cell_type": "code",
   "execution_count": 8,
   "id": "b9d363d5-78a2-4b45-adb7-d5d365cc8144",
   "metadata": {},
   "outputs": [
    {
     "name": "stdout",
     "output_type": "stream",
     "text": [
      "Último elemento de la segunda dimensión:  10\n"
     ]
    }
   ],
   "source": [
    "\n",
    "arr = np.array([[1,2,3,4,5], [6,7,8,9,10]])\n",
    "\n",
    "print('Último elemento de la segunda dimensión: ', arr[1, -1]) "
   ]
  },
  {
   "cell_type": "markdown",
   "id": "f283d586-010b-43b2-a91f-0fb52caa4589",
   "metadata": {},
   "source": [
    "## Funciones incorporadas para generación arrays/vectores y matrices\n",
    "\n",
    "Numpy incorporta métodos para generar un arrays rellenos de ceros o unos:"
   ]
  },
  {
   "cell_type": "code",
   "execution_count": 11,
   "id": "ff048a6d-ec8c-42ef-bcdb-2acf8dce5b0c",
   "metadata": {},
   "outputs": [
    {
     "data": {
      "text/plain": [
       "array([1., 1., 1., 1., 1.])"
      ]
     },
     "execution_count": 11,
     "metadata": {},
     "output_type": "execute_result"
    }
   ],
   "source": [
    "np.ones(5)"
   ]
  },
  {
   "cell_type": "code",
   "execution_count": 10,
   "id": "15f995aa-8d48-49de-a705-a7a3e37b0917",
   "metadata": {},
   "outputs": [
    {
     "data": {
      "text/plain": [
       "array([0., 0., 0., 0.])"
      ]
     },
     "execution_count": 10,
     "metadata": {},
     "output_type": "execute_result"
    }
   ],
   "source": [
    "np.zeros(4)"
   ]
  },
  {
   "cell_type": "markdown",
   "id": "1218503e-bf02-4f59-94eb-21c292f20d6c",
   "metadata": {},
   "source": [
    "Hay muchas situaciones en las que tienes un rango de números y te gustaría dividir por igual ese rango de números en intervalos. El método linspace de NumPy está diseñado para resolver este problema. linspace tiene tres argumentos:\n",
    "- El inicio del intervalo\n",
    "- El fin del intervalo\n",
    "- El número de subintervalos en los que deseas que se divida el intervalo\n",
    "\n",
    "Un ejemplo del método linspace es el siguiente:"
   ]
  },
  {
   "cell_type": "code",
   "execution_count": 12,
   "id": "94d2d227-b7c5-45b6-959f-d303011e9d27",
   "metadata": {},
   "outputs": [
    {
     "data": {
      "text/plain": [
       "array([0.        , 0.11111111, 0.22222222, 0.33333333, 0.44444444,\n",
       "       0.55555556, 0.66666667, 0.77777778, 0.88888889, 1.        ])"
      ]
     },
     "execution_count": 12,
     "metadata": {},
     "output_type": "execute_result"
    }
   ],
   "source": [
    "np.linspace(0, 1, 10)\n",
    "\n",
    "#Devuelve array([0, 0.1, 0.2, 0.3, 0.4, 0.5, 0.6, 0.7, 0.8, 0.9, 1.0])"
   ]
  },
  {
   "cell_type": "markdown",
   "id": "a81a1fdc-8642-4e12-8959-9ed185d1affd",
   "metadata": {},
   "source": [
    "Vualquiera que haya estudiado álgebra lineal estará familiarizado con el concepto de un \"matriz identidad\", que es una matriz  cuadrada cuyos valores diagonales son todos 1. NumPy tiene una función incorporada que incluye un argumento para construir matrices identidad. La función es eye:"
   ]
  },
  {
   "cell_type": "code",
   "execution_count": 14,
   "id": "611f46e4-e0d2-4cad-8763-f07f130cb9c4",
   "metadata": {},
   "outputs": [
    {
     "name": "stdout",
     "output_type": "stream",
     "text": [
      "[[1.]]\n",
      "[[1. 0.]\n",
      " [0. 1.]]\n",
      "[[1. 0. 0. ... 0. 0. 0.]\n",
      " [0. 1. 0. ... 0. 0. 0.]\n",
      " [0. 0. 1. ... 0. 0. 0.]\n",
      " ...\n",
      " [0. 0. 0. ... 1. 0. 0.]\n",
      " [0. 0. 0. ... 0. 1. 0.]\n",
      " [0. 0. 0. ... 0. 0. 1.]]\n"
     ]
    }
   ],
   "source": [
    "print(np.eye(1))\n",
    "\n",
    "#Devuelve un arreglo identidad de 1x1\n",
    "\n",
    "print(np.eye(2) )\n",
    "\n",
    "#Devuelve un arreglo identidad de 2x2\n",
    "\n",
    "print(np.eye(50))\n",
    "\n",
    "#Devuelve un arreglo identidad de 50x50"
   ]
  },
  {
   "cell_type": "markdown",
   "id": "4e5935e7-8168-4f85-bdff-eb5069c0d254",
   "metadata": {},
   "source": [
    "## Números aleatorios en NumPy\n",
    "\n",
    "NumPy incorpora algunas funciones para generar números aleatorios:"
   ]
  },
  {
   "cell_type": "code",
   "execution_count": 16,
   "id": "f9f4f8cc-5850-4457-ba65-027ebacb7da2",
   "metadata": {},
   "outputs": [
    {
     "data": {
      "text/plain": [
       "array([0.33034017, 0.11262874, 0.86918057, 0.129774  , 0.61013947,\n",
       "       0.05218418, 0.59974363])"
      ]
     },
     "execution_count": 16,
     "metadata": {},
     "output_type": "execute_result"
    }
   ],
   "source": [
    "np.random.rand(7)\n",
    "#Devuelve una muestra de números aleatorios entre 0 y 1.\n",
    "\n"
   ]
  },
  {
   "cell_type": "code",
   "execution_count": 18,
   "id": "422c4cd7-ef0f-4129-b133-8738a6b2cf4c",
   "metadata": {},
   "outputs": [
    {
     "data": {
      "text/plain": [
       "array([[0.01531609, 0.91438269, 0.89400109, 0.7428334 ],\n",
       "       [0.97666053, 0.14864733, 0.25036153, 0.70479718],\n",
       "       [0.99758777, 0.89453816, 0.19853942, 0.76772751],\n",
       "       [0.43782581, 0.67697485, 0.23805486, 0.90439523]])"
      ]
     },
     "execution_count": 18,
     "metadata": {},
     "output_type": "execute_result"
    }
   ],
   "source": [
    "np.random.rand(4,4)\n",
    "#El tamaño de la muestra puede ser un número entero (para un arreglo unidimensional) o dos enteros separados por comas (para un arreglo bidimensional)."
   ]
  },
  {
   "cell_type": "code",
   "execution_count": 40,
   "id": "af9d500b-04e4-4b05-98be-5119265d7370",
   "metadata": {},
   "outputs": [
    {
     "data": {
      "text/plain": [
       "array([ 0.51920581, -0.17468533, -1.24212952, -0.23266865, -0.75012807,\n",
       "        0.70447345,  0.85150166, -0.72733112,  0.20843178,  2.18620888,\n",
       "        0.57393429,  1.55528536, -0.92936415,  0.2312915 , -0.55231799,\n",
       "        0.68957276, -0.70333099,  0.22963583, -0.31496087, -1.08529832])"
      ]
     },
     "execution_count": 40,
     "metadata": {},
     "output_type": "execute_result"
    }
   ],
   "source": [
    "np.random.randn(20)\n",
    "\n",
    "#Devuelve una muestra de números aleatorios entre siguiendo la distribución normal 0,1."
   ]
  },
  {
   "cell_type": "code",
   "execution_count": 42,
   "id": "487367fe-7da5-4054-b090-13e904e96bce",
   "metadata": {},
   "outputs": [
    {
     "name": "stdout",
     "output_type": "stream",
     "text": [
      "[[ 1.32901845  0.11206089  2.09923032]\n",
      " [ 1.40628676  0.19205492 -0.94897847]]\n"
     ]
    }
   ],
   "source": [
    "# Podemos personalizar los parámetros de la distribución (en el ejemplo media 1 y sd 2):\n",
    "from numpy import random\n",
    "\n",
    "x = random.normal(loc=1, scale=2, size=(2, 3)) # se genera una matriz de 2x3\n",
    "\n",
    "print(x) "
   ]
  },
  {
   "cell_type": "code",
   "execution_count": 22,
   "id": "a3fd4ba7-d065-410b-aa10-7102cb19d7da",
   "metadata": {},
   "outputs": [
    {
     "data": {
      "text/plain": [
       "array([[ 0.501914  ,  0.35535519, -0.50201412,  1.46809486,  1.05376382],\n",
       "       [ 0.39060689,  1.02755445,  0.42959371,  0.03096559, -0.50839987],\n",
       "       [ 0.81031816,  0.55550717,  0.38810665, -0.61271674, -1.64066097],\n",
       "       [ 0.71971433,  0.78014072, -1.13262868, -1.56653587, -2.3084084 ],\n",
       "       [-0.64352676,  0.14216008, -1.31851232, -1.00603768,  0.85504295]])"
      ]
     },
     "execution_count": 22,
     "metadata": {},
     "output_type": "execute_result"
    }
   ],
   "source": [
    "np.random.randn(5,5)\n",
    "#El tamaño de la muestra puede sebr un número entero (para un arreglo unidimensional) o dos enteros separados por comas (para un arreglo bidimensional)."
   ]
  },
  {
   "cell_type": "markdown",
   "id": "eeb4b54a-e372-4f8c-9388-31778235ec20",
   "metadata": {},
   "source": [
    "Podemos visualizar la distribución usando patplotlib y seaborn:"
   ]
  },
  {
   "cell_type": "code",
   "execution_count": 55,
   "id": "d46f374a-2ab9-4589-b573-8ba21e0ac7e5",
   "metadata": {},
   "outputs": [
    {
     "name": "stderr",
     "output_type": "stream",
     "text": [
      "C:\\Users\\japar\\anaconda3\\lib\\site-packages\\seaborn\\distributions.py:2619: FutureWarning: `distplot` is a deprecated function and will be removed in a future version. Please adapt your code to use either `displot` (a figure-level function with similar flexibility) or `histplot` (an axes-level function for histograms).\n",
      "  warnings.warn(msg, FutureWarning)\n"
     ]
    },
    {
     "data": {
      "image/png": "[encoded data removed]",
      "text/plain": [
       "<Figure size 432x288 with 1 Axes>"
      ]
     },
     "metadata": {
      "needs_background": "light"
     },
     "output_type": "display_data"
    }
   ],
   "source": [
    "from numpy import random\n",
    "import matplotlib.pyplot as plt\n",
    "import seaborn as sns\n",
    "\n",
    "sns.distplot(random.normal(size=1000), hist=True)\n",
    "\n",
    "plt.show() "
   ]
  },
  {
   "cell_type": "code",
   "execution_count": 57,
   "id": "39dbdbd9-5a89-40d7-99b7-c2ced0ac1c8a",
   "metadata": {},
   "outputs": [
    {
     "data": {
      "text/plain": [
       "array([1, 3, 4, 7, 1, 4, 9, 7, 4, 7, 9, 5, 9, 1, 1, 5, 1, 6, 8, 5])"
      ]
     },
     "execution_count": 57,
     "metadata": {},
     "output_type": "execute_result"
    }
   ],
   "source": [
    "np.random.randint(1, 10,20)\n",
    "#Devuelve una muestra de números enteros que son mayores o iguales que el primer parámetro y menores que el segundo,\n",
    "# el tamaño de la muestra  se controla con el tercer parámetro:"
   ]
  },
  {
   "cell_type": "markdown",
   "id": "3052feb5-3e82-4882-9ade-6a7422fbebcc",
   "metadata": {},
   "source": [
    "Podemos generar datos conforme otras distribuciones, como por ejemplo la de Poisson:"
   ]
  },
  {
   "cell_type": "code",
   "execution_count": 58,
   "id": "7f5a8b35-474e-4d8b-9494-41d7a9f2cbc4",
   "metadata": {},
   "outputs": [
    {
     "name": "stdout",
     "output_type": "stream",
     "text": [
      "[1 1 2 2 1 1 1 2 3 2]\n"
     ]
    }
   ],
   "source": [
    "from numpy import random\n",
    "\n",
    "x = random.poisson(lam=2, size=10)\n",
    "\n",
    "print(x)"
   ]
  },
  {
   "cell_type": "code",
   "execution_count": 61,
   "id": "5ec814ab-0204-4720-af86-ab2142d4f99e",
   "metadata": {},
   "outputs": [
    {
     "data": {
      "image/png": "[encoded data removed]",
      "text/plain": [
       "<Figure size 360x360 with 1 Axes>"
      ]
     },
     "metadata": {
      "needs_background": "light"
     },
     "output_type": "display_data"
    }
   ],
   "source": [
    "from numpy import random\n",
    "import matplotlib.pyplot as plt\n",
    "import seaborn as sns\n",
    "\n",
    "sns.displot(random.poisson(lam=2, size=1000), kde=False)\n",
    "\n",
    "plt.show() "
   ]
  },
  {
   "cell_type": "markdown",
   "id": "84f21e15-172d-43a5-b749-fe4846654425",
   "metadata": {},
   "source": [
    "O Chi-square:"
   ]
  },
  {
   "cell_type": "code",
   "execution_count": 63,
   "id": "64b7c156-46bd-49e5-8e28-839b180fafe1",
   "metadata": {},
   "outputs": [
    {
     "name": "stdout",
     "output_type": "stream",
     "text": [
      "[[0.48889955 7.02352531 0.85090203]\n",
      " [2.04586018 0.02805603 0.43814817]]\n"
     ]
    }
   ],
   "source": [
    "from numpy import random\n",
    "\n",
    "x = random.chisquare(df=2, size=(2, 3))\n",
    "\n",
    "print(x) "
   ]
  },
  {
   "cell_type": "code",
   "execution_count": 64,
   "id": "1d28a5a6-37dc-4ac3-bf57-3d942834d891",
   "metadata": {},
   "outputs": [
    {
     "name": "stderr",
     "output_type": "stream",
     "text": [
      "C:\\Users\\japar\\anaconda3\\lib\\site-packages\\seaborn\\distributions.py:2619: FutureWarning: `distplot` is a deprecated function and will be removed in a future version. Please adapt your code to use either `displot` (a figure-level function with similar flexibility) or `kdeplot` (an axes-level function for kernel density plots).\n",
      "  warnings.warn(msg, FutureWarning)\n"
     ]
    },
    {
     "data": {
      "image/png": "[encoded data removed]",
      "text/plain": [
       "<Figure size 432x288 with 1 Axes>"
      ]
     },
     "metadata": {
      "needs_background": "light"
     },
     "output_type": "display_data"
    }
   ],
   "source": [
    "from numpy import random\n",
    "import matplotlib.pyplot as plt\n",
    "import seaborn as sns\n",
    "\n",
    "sns.distplot(random.chisquare(df=1, size=1000), hist=False)\n",
    "\n",
    "plt.show() "
   ]
  },
  {
   "cell_type": "markdown",
   "id": "f85c351a-54ac-451e-9bf2-608e77219d41",
   "metadata": {},
   "source": [
    "## Reestructuración de datos con Numpy y funciones incorporadas\n",
    "Podemos reestructurar los arrays y transformarlos en matrices y viceversa. Por ejemplo, para transformar un array de seis elementos en un matriz de 2x3:"
   ]
  },
  {
   "cell_type": "code",
   "execution_count": 30,
   "id": "950e131e-e43c-435e-b43c-2009fd2ae3d6",
   "metadata": {},
   "outputs": [
    {
     "data": {
      "text/plain": [
       "array([[0, 1, 2],\n",
       "       [3, 4, 5]])"
      ]
     },
     "execution_count": 30,
     "metadata": {},
     "output_type": "execute_result"
    }
   ],
   "source": [
    "arr = np.array([0,1,2,3,4,5])\n",
    "\n",
    "arr.reshape(2,3)"
   ]
  },
  {
   "cell_type": "markdown",
   "id": "3966f1a7-1fb0-4d80-a983-9d394465b8db",
   "metadata": {},
   "source": [
    "Aprendamos cuatro métodos útiles para identificar los valores máximo y mínimo dentro de un array NumPy:"
   ]
  },
  {
   "cell_type": "code",
   "execution_count": 32,
   "id": "d9347a95-5dbd-4c29-985b-e355c4611966",
   "metadata": {},
   "outputs": [
    {
     "data": {
      "text/plain": [
       "4"
      ]
     },
     "execution_count": 32,
     "metadata": {},
     "output_type": "execute_result"
    }
   ],
   "source": [
    "simple_array =  np.array([1, 2, 3, 4])\n",
    "\n",
    "simple_array.max()"
   ]
  },
  {
   "cell_type": "markdown",
   "id": "10992d95-a3da-4d6b-9e9f-257a0fd782f4",
   "metadata": {},
   "source": [
    "La función argmax, en lugar del valor máximo, nos proporciona el índice en el que se encuentra a su vez el valor máximo:"
   ]
  },
  {
   "cell_type": "code",
   "execution_count": 34,
   "id": "65c99e07-f888-413c-954d-8af61803fcd2",
   "metadata": {},
   "outputs": [
    {
     "data": {
      "text/plain": [
       "3"
      ]
     },
     "execution_count": 34,
     "metadata": {},
     "output_type": "execute_result"
    }
   ],
   "source": [
    "simple_array.argmax()"
   ]
  },
  {
   "cell_type": "code",
   "execution_count": 35,
   "id": "8509b13b-d338-425d-9e18-ad074d8f1a7f",
   "metadata": {},
   "outputs": [
    {
     "name": "stdout",
     "output_type": "stream",
     "text": [
      "1\n",
      "0\n"
     ]
    }
   ],
   "source": [
    "print(simple_array.min())\n",
    "\n",
    "print(simple_array.argmin())"
   ]
  },
  {
   "cell_type": "markdown",
   "id": "346d24e9-9191-4ed5-bbd4-b7650d39a098",
   "metadata": {},
   "source": [
    "## Operaciones con NumPy\n",
    "\n",
    "Al sumar un sólo número a un arreglo de NumPy, ese número se suma a cada elemento en el arreglo. A continuación se ve un ejemplo:"
   ]
  },
  {
   "cell_type": "code",
   "execution_count": 37,
   "id": "ec0a965c-edcb-497d-abb4-32ccf70c68df",
   "metadata": {},
   "outputs": [
    {
     "name": "stdout",
     "output_type": "stream",
     "text": [
      "[0 1 2 3 4 5]\n",
      "[2 3 4 5 6 7]\n"
     ]
    }
   ],
   "source": [
    "print(arr)\n",
    "print(2 + arr)\n",
    "\n",
    "#Devuelve array([2, 3, 4, 5])"
   ]
  },
  {
   "cell_type": "markdown",
   "id": "d01f3793-85b5-490e-988c-4da0a19bce7b",
   "metadata": {},
   "source": [
    "Puedes sumar dos arrays NumPy usando el operador +. Los arrays se suman elemento por elemento (lo que significa que los primeros elementos se suman entre si, los segundos elementos se suman se suman entre se, y así sucesivamente)."
   ]
  },
  {
   "cell_type": "code",
   "execution_count": 38,
   "id": "2ad279d9-e47d-4d27-82be-51e55886431c",
   "metadata": {},
   "outputs": [
    {
     "data": {
      "text/plain": [
       "array([ 0,  2,  4,  6,  8, 10])"
      ]
     },
     "execution_count": 38,
     "metadata": {},
     "output_type": "execute_result"
    }
   ],
   "source": [
    "arr + arr"
   ]
  },
  {
   "cell_type": "markdown",
   "id": "1d957766-31b4-48e7-96ba-567d977bed5f",
   "metadata": {},
   "source": [
    "De manera similar podemos usuar los operadores -, * y /.\n",
    "\n",
    "También podemos usar operadores relacionales, por ejemplo:"
   ]
  },
  {
   "cell_type": "code",
   "execution_count": 65,
   "id": "43558509-89e3-4fda-9164-795a30504789",
   "metadata": {},
   "outputs": [
    {
     "data": {
      "text/plain": [
       "array([False, False, False, False,  True,  True])"
      ]
     },
     "execution_count": 65,
     "metadata": {},
     "output_type": "execute_result"
    }
   ],
   "source": [
    "arr>3"
   ]
  },
  {
   "cell_type": "markdown",
   "id": "0ebe5a08-7647-4aba-8f2b-e22907c97d7f",
   "metadata": {},
   "source": [
    "NumPy incorpora funciones y constantes comunes para trigonometría y matemáticas en general:"
   ]
  },
  {
   "cell_type": "code",
   "execution_count": 67,
   "id": "f52d022f-4dc2-4848-a381-7832dcd0e464",
   "metadata": {},
   "outputs": [
    {
     "name": "stdout",
     "output_type": "stream",
     "text": [
      "1.0\n",
      "3.141592653589793\n"
     ]
    }
   ],
   "source": [
    "\n",
    "x = np.sin(np.pi/2)\n",
    "\n",
    "print(x) \n",
    "print(np.pi)"
   ]
  },
  {
   "cell_type": "code",
   "execution_count": 68,
   "id": "22ab40a2-7625-4ead-91ee-a9c33f7346b4",
   "metadata": {},
   "outputs": [
    {
     "name": "stdout",
     "output_type": "stream",
     "text": [
      "12\n"
     ]
    }
   ],
   "source": [
    "num1 = 4\n",
    "num2 = 6\n",
    "\n",
    "x = np.lcm(num1, num2)\n",
    "\n",
    "print(x) "
   ]
  },
  {
   "cell_type": "code",
   "execution_count": 69,
   "id": "a1d62a1c-aee4-43ca-a1c9-5a216155420e",
   "metadata": {},
   "outputs": [
    {
     "name": "stdout",
     "output_type": "stream",
     "text": [
      "3\n"
     ]
    }
   ],
   "source": [
    "num1 = 6\n",
    "num2 = 9\n",
    "\n",
    "x = np.gcd(num1, num2)\n",
    "\n",
    "print(x) "
   ]
  }
 ],
 "metadata": {
  "kernelspec": {
   "display_name": "Python 3 (ipykernel)",
   "language": "python",
   "name": "python3"
  },
  "language_info": {
   "codemirror_mode": {
    "name": "ipython",
    "version": 3
   },
   "file_extension": ".py",
   "mimetype": "text/x-python",
   "name": "python",
   "nbconvert_exporter": "python",
   "pygments_lexer": "ipython3",
   "version": "3.9.7"
  }
 },
 "nbformat": 4,
 "nbformat_minor": 5
}
