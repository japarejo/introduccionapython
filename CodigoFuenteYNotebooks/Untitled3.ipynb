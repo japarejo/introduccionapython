{
 "cells": [
  {
   "cell_type": "markdown",
   "id": "3f9a7f47-d5b7-4cd5-adb1-12379b4097b2",
   "metadata": {},
   "source": [
    "# Funciones\n",
    "\n",
    "Una función es un bloque de código solo se ejecuta cuando es invocada.\n",
    "\n",
    "## Declaración e invocación de funciones\n",
    "\n",
    "En python las funciones se declaran usando la palabra clave *def* junto con el nombre de la función y sus parámetros entre paréntesis. Para invocar dichas funciones simplemente escribimos su nombre y especificamos los valores de los parámetros entre paréntesis:"
   ]
  },
  {
   "cell_type": "code",
   "execution_count": 1,
   "id": "eff3ef68-a325-477c-bd94-cb9f58cc7c27",
   "metadata": {},
   "outputs": [
    {
     "name": "stdout",
     "output_type": "stream",
     "text": [
      "Esto es una función que se ha ejecutado\n"
     ]
    }
   ],
   "source": [
    "def mifuncion():\n",
    "    print(\"Esto es una función que se ha ejecutado\")\n",
    "\n",
    "mifuncion()"
   ]
  },
  {
   "cell_type": "markdown",
   "id": "03c08c1c-d67f-4dab-af47-aa04926adc3d",
   "metadata": {},
   "source": [
    "En python las funciones son ciudadanos de primer nivel del lenguaje, y por tanto, podemos asignar funciones a variables y operar con ellas."
   ]
  },
  {
   "cell_type": "code",
   "execution_count": 2,
   "id": "785378d7-62da-4ac8-8427-ae1a4945ba1b",
   "metadata": {},
   "outputs": [
    {
     "name": "stdout",
     "output_type": "stream",
     "text": [
      "Esto es una función que se ha ejecutado\n"
     ]
    }
   ],
   "source": [
    "variableconfuncion=mifuncion\n",
    "\n",
    "variableconfuncion()"
   ]
  },
  {
   "cell_type": "markdown",
   "id": "1d421d8f-e60e-4c9d-8e78-0fa0f4484ac7",
   "metadata": {},
   "source": [
    "## Parámetros\n",
    "\n",
    "Las funciones en python admiten parámetros para proporcionar información a la función:\n"
   ]
  },
  {
   "cell_type": "code",
   "execution_count": 4,
   "id": "093e1592-7056-407f-89f3-369e9f4e24b3",
   "metadata": {},
   "outputs": [
    {
     "name": "stdout",
     "output_type": "stream",
     "text": [
      "Emil Refsnes\n",
      "Tobias Refsnes\n",
      "Linus Refsnes\n"
     ]
    }
   ],
   "source": [
    "def miotrafuncion(fname):\n",
    "  print(fname + \" Refsnes\")\n",
    "\n",
    "miotrafuncion(\"Emil\")\n",
    "miotrafuncion(\"Tobias\")\n",
    "miotrafuncion(\"Linus\") "
   ]
  },
  {
   "cell_type": "markdown",
   "id": "158c30a8-7d6e-40c2-90db-c7eb152897cf",
   "metadata": {},
   "source": [
    "En python los parámetros se especifican por orden de declaración o bien por nombre al invocar la función:"
   ]
  },
  {
   "cell_type": "code",
   "execution_count": 7,
   "id": "b962b7e8-d3ad-4391-99ba-deb124692ad2",
   "metadata": {},
   "outputs": [
    {
     "name": "stdout",
     "output_type": "stream",
     "text": [
      "1.5\n",
      "1.5\n"
     ]
    }
   ],
   "source": [
    "def divide(dividendo,divisor):\n",
    "    return dividendo/divisor\n",
    "\n",
    "print(divide(3, 2))\n",
    "print(divide(divisor=2,dividendo=3))"
   ]
  },
  {
   "cell_type": "markdown",
   "id": "29904480-1369-42e8-ae90-af162c6b8360",
   "metadata": {},
   "source": [
    "Sin embargo, no es posible pasar un argumento por nombre antes que uno que no sea pasado por nombre, una vez empezamos a pasar los parámetros por nombre, todos los parámetros deberán ser pasados por nombre:"
   ]
  },
  {
   "cell_type": "code",
   "execution_count": 10,
   "id": "ce3afd43-7f28-4728-b282-265dc23b8775",
   "metadata": {},
   "outputs": [
    {
     "name": "stdout",
     "output_type": "stream",
     "text": [
      "1.5\n"
     ]
    }
   ],
   "source": [
    "print(divide(3,divisor=2))"
   ]
  },
  {
   "cell_type": "code",
   "execution_count": 11,
   "id": "e3620cd5-8cd2-459d-8813-16d03643966c",
   "metadata": {},
   "outputs": [
    {
     "ename": "SyntaxError",
     "evalue": "positional argument follows keyword argument (Temp/ipykernel_4592/1411486055.py, line 1)",
     "output_type": "error",
     "traceback": [
      "\u001b[1;36m  File \u001b[1;32m\"C:\\Users\\japar\\AppData\\Local\\Temp/ipykernel_4592/1411486055.py\"\u001b[1;36m, line \u001b[1;32m1\u001b[0m\n\u001b[1;33m    print(divide(divisor=2,3)) # Esto generará un error de sintaxis del lenguaje en la invocación a la función\u001b[0m\n\u001b[1;37m                            ^\u001b[0m\n\u001b[1;31mSyntaxError\u001b[0m\u001b[1;31m:\u001b[0m positional argument follows keyword argument\n"
     ]
    }
   ],
   "source": [
    "print(divide(divisor=2,3)) # Esto generará un error de sintaxis del lenguaje en la invocación a la función"
   ]
  },
  {
   "cell_type": "markdown",
   "id": "a815dee1-4196-4966-b172-c52a0ab78214",
   "metadata": {},
   "source": [
    "Pueden declararse parámetros como opcionales indicando un valor por defecto al decarar la función:"
   ]
  },
  {
   "cell_type": "code",
   "execution_count": 13,
   "id": "324a3f83-6c27-4411-a9fe-3de600080a43",
   "metadata": {},
   "outputs": [
    {
     "name": "stdout",
     "output_type": "stream",
     "text": [
      "1.5\n",
      "1.5\n",
      "3.0\n"
     ]
    }
   ],
   "source": [
    "def divide(dividendo,divisor=1):   # El valor por defecto para el divisor es 1\n",
    "    return dividendo/divisor\n",
    "\n",
    "print(divide(3, 2))\n",
    "print(divide(divisor=2,dividendo=3))\n",
    "print(divide(3))"
   ]
  }
 ],
 "metadata": {
  "kernelspec": {
   "display_name": "Python 3 (ipykernel)",
   "language": "python",
   "name": "python3"
  },
  "language_info": {
   "codemirror_mode": {
    "name": "ipython",
    "version": 3
   },
   "file_extension": ".py",
   "mimetype": "text/x-python",
   "name": "python",
   "nbconvert_exporter": "python",
   "pygments_lexer": "ipython3",
   "version": "3.9.7"
  }
 },
 "nbformat": 4,
 "nbformat_minor": 5
}
