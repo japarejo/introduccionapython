{
 "cells": [
  {
   "cell_type": "markdown",
   "id": "dd569824-5559-4e1f-a0f3-ea1c5afc4468",
   "metadata": {
    "tags": []
   },
   "source": [
    "# Módulos, paquetes y entornos\n",
    "\n",
    "La programación modular es el proceso de dividir una tarea de programación grande y difícil de realizarar en subtareas o módulos separados, más pequeños y manejables. \n",
    "Los módulos individuales pueden unirse como bloques de construcción para crear una aplicación más grande.\n",
    "Además si los diseñamos bien, los módulos pueden ser reutilizados, de manera que podamos aprovechar el trabajo ya realizado por otros programadores (o por nosotros mismos).\n",
    "\n",
    "Python viene ya por defecto con una enorme librería estándar de código reutilizable que incorpora muchos módulos. Os invitamos a echar un vistazo a la funcionalidad que nos proporciona accediendo a la documentación oficial de la misma:\n",
    "\n",
    "[https://docs.python.org/3/library/](https://docs.python.org/3/library/)\n",
    "\n",
    "## Definiciones básicas\n",
    "\n",
    "### Script \n",
    "Es un archivo de Python para a ser ejecutado directamente. Suele estar orientado a una tarea, no suele ser reutilizable, ni invocarse desde otros scripts de ninguna forma.\n",
    "\n",
    "### Módulo\n",
    "Es un archivo de Python destinado a ser importado en scripts u otros módulos. Define clases, funciones y variables destinadas a ser utilizadas en otros archivos que lo importan. \n",
    "\n",
    "### Paquete\n",
    "Es una colección de módulos relacionados que trabajan juntos, y están almacenados en una misma carpeta. Esta carpeta suele contener un archivo especial __init__ que indica que se trata de un paquete, que puede contener más módulos anidados en subcarpetas\n"
   ]
  },
  {
   "cell_type": "markdown",
   "id": "015b5bf9-0787-480e-9610-c2e81ab7ee3b",
   "metadata": {},
   "source": [
    "## Uso de módulos y PIP el gestor de paquetes por defecto de Python\n",
    "\n",
    "La manera estándar de usar un módulo definido por otros programadores en nuestro código es mediante la instrucción *import*.\n",
    "Este instrucción toma muchas formas, pero la mas sencilla la hemos visto ya a lo largo de este curso, *import <nombre-de-modulo>*.\n",
    "Tenga en cuenta que esto no hace que el contenido del módulo sea directamente accesible para quien lo llama. \n",
    "Cada módulo tiene su propia tabla de símbolos privada (es decir, sus propias clases, métodos y variables con sus nombres concret), que sirve como tabla de símbolos global para todos los objetos definidos en el módulo. Por lo tanto, un módulo crea un espacio de nombres separado. Por ejemplo, al importar el módulo de manejo de fechas, debemos volver a poner el nombre del paquete delante del nombre de la clase para crear un objeto de tipo fecha:\n",
    "    \n",
    "\n",
    "\n"
   ]
  },
  {
   "cell_type": "code",
   "execution_count": 1,
   "id": "3c734e27-1c8e-4f02-9199-c9b208acd192",
   "metadata": {},
   "outputs": [
    {
     "name": "stdout",
     "output_type": "stream",
     "text": [
      "2022-06-19 19:20:35.295406\n"
     ]
    }
   ],
   "source": [
    "import datetime\n",
    "\n",
    "ahora = datetime.datetime.now()\n",
    "print(ahora)"
   ]
  },
  {
   "cell_type": "markdown",
   "id": "87f0dda5-860a-4324-ab19-76055af2d1a0",
   "metadata": {},
   "source": [
    "En el código que crear la fecha, el primer *datetime* especifica el módulo, el segundo *datetime* especifica la clase concreta de este módulo, y el *now()* especifica el método de clase concreto a invocar.\n",
    "\n",
    "Existe una manera alternativa de importar clases o métodos individuales de manera directa en nuestro espacio de nombres, que toma la siguiente forma: *from <nombre_de_modulo> import <nombre(s)_de_clase(s)_o_metodo(s)>"
   ]
  }
 ],
 "metadata": {
  "kernelspec": {
   "display_name": "Python 3 (ipykernel)",
   "language": "python",
   "name": "python3"
  },
  "language_info": {
   "codemirror_mode": {
    "name": "ipython",
    "version": 3
   },
   "file_extension": ".py",
   "mimetype": "text/x-python",
   "name": "python",
   "nbconvert_exporter": "python",
   "pygments_lexer": "ipython3",
   "version": "3.9.7"
  }
 },
 "nbformat": 4,
 "nbformat_minor": 5
}
