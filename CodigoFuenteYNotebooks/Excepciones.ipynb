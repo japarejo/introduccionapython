{
 "cells": [
  {
   "cell_type": "markdown",
   "id": "4752d903-a95b-4c0b-9633-aeb49fa0569e",
   "metadata": {},
   "source": [
    "# Excepciones\n",
    "\n",
    "Ya te habrás dado cuenta a lo largo del curso de que tan pronto como el intérprete encuentra un error en Python, el programa termina y las celdas de nuestros notebooks, o nuestros scripts se paran y dejan de ejecutarse. \n",
    "Los errores en Python pueden ser de dos tipos: Errores de Sintaxis y Excepciones. \n",
    "Los errores de sintaxis son simples de localizar y tratar, y te habrás enfrentado a muchos de ellos a lo largo de lo que llevamos de curso. \n",
    "Sin embargo, tratar con errores lógicos o Excepciones es algo mas difícil.\n",
    "Una excepción es un objeto que representa una situación inesperada en la ejecución del programa, para los que el desarrollador debe proporcionarle al intérprete la definición de cómo actuar o reaccionar a la situación.\n",
    "\n",
    "## El bloque try - except\n",
    "\n",
    "La manera más común de lidiar con las excepciones es mediante un bloque try-except, que ejecuta tentativamente un trozo de código (el trozo que se ejecuta como parte del *try*), y si ocurre una excepción especifica se tratará usando el código que se especifica en la sección *except*.\n"
   ]
  },
  {
   "cell_type": "code",
   "execution_count": null,
   "id": "c14bef32-ae99-49be-bd24-bb22807ffb53",
   "metadata": {},
   "outputs": [],
   "source": [
    "try:\n",
    "    n=int(input(\"Indique un número entero\"))\n",
    "    result=2/n\n",
    "    print(\"Hemos podido realizar la operación\")\n",
    "except Exception:\n",
    "    print(\"Se produjo un error al intentar leer el dato o realizar la operación\",Exception)\n"
   ]
  },
  {
   "cell_type": "markdown",
   "id": "9a5784f7-fba8-45e0-b7cf-72b0e0999263",
   "metadata": {},
   "source": [
    "En realidad este tipo de bloque de control de flujo de ejecución del programa en python soporta aún más opciones. Veámolas todas en detalle:\n",
    " * Try: El bloque try permite probar los bloques de código en los que es más probable que se produzca la excepción. En caso de que encuentre o levante una excepción, el control salta directamente al bloque Except.\n",
    "\n",
    " * Except: Si se produce una excepción dentro del bloque try, se ejecuta el bloque except. Es necesario especificar un bloque except, siempre con un bloque try. Aquí es donde se especifica qué hacer cuando se produce una excepción.\n",
    "\n",
    "Se pueden utilizar otros dos tipos de bloques para ayudar al proceso de manejo de excepciones mediante bloques try-except.\n",
    "\n",
    " * Else: Si no se produjeron excepciones dentro del bloque try, puede utilizar el bloque else para definir los códigos que deben ejecutarse en tal caso.\n",
    " * Finally: Independientemente del hecho de que se haya levantado una excepción dentro de un bloque try o no, siempre se ejecuta el código que mencionas dentro del bloque final.\n",
    "\n",
    "Entendamos cómo funcionan los bloques try-except.\n",
    "\n",
    "El código que escribes entre las cláusulas try y except, es decir dentro del bloque try, se ejecuta primero. Si no encuentra interrupciones o excepciones dentro del bloque try, entonces el código dentro de los bloques except no se ejecuta. Si has definido los bloques else y finally, entonces los códigos dentro de estos bloques se ejecutarán.\n",
    "\n",
    "Si se produce un error o una excepción dentro del bloque try, entonces el flujo salta directamente al bloque except, y los códigos que especifiques dentro de él se ejecutan. El código restante dentro del bloque try no se ejecuta, en tal caso. Si la cláusula except no maneja la excepción, lleva el flujo al bloque try externo. Esto significa que también puedes tener bloques try anidados. Si el bloque try externo tampoco maneja la excepción, entonces la ejecución se detiene.\n",
    "\n",
    "Sin embargo, si la excepción se maneja dentro del bloque except, entonces el código mencionado dentro del bloque finally, si hay uno, se ejecuta. Tenga en cuenta que cada bloque try puede tener más de un bloque else y se ejecutará el que se maneje primero. \n",
    "\n",
    "Por lo tanto, la jerarquía de especificar bloques except debe ser de tal manera que los bloques except más específicos deben venir primero, seguidos por los más genéricos. Entenderás esto en mayor detalle con ejemplos más adelante.\n",
    "\n",
    "Así una versión más adecuada del código anterior sería:"
   ]
  },
  {
   "cell_type": "code",
   "execution_count": null,
   "id": "10d0d4a1-332d-4744-b06d-e37c229b7628",
   "metadata": {},
   "outputs": [],
   "source": [
    "try:\n",
    "    n=int(input(\"Indique un número entero\"))\n",
    "    try:\n",
    "        result=2/n\n",
    "        print(\"Hemos podido realizar la operación:\",result)\n",
    "    except ZeroDivisionError as error:\n",
    "        print(\"Se produjo un error al realizar la operación, división por cero\",error)\n",
    "except Exception:\n",
    "    print(\"Se produjo un error al intentar leer el dato, proporcione un valor entero\")\n"
   ]
  },
  {
   "cell_type": "markdown",
   "id": "2cc2a152-de8f-49ff-9bc8-58ae4b929e2a",
   "metadata": {},
   "source": [
    "## La naturaleza de las excepciones\n",
    "\n",
    "El manejo de excepciones en Python permite a los desarrolladores controlar el flujo del programa, incluso si el programa deja de ejecutarse. Las excepciones se consideran errores que ocurren durante la ejecución del programa. Como se discutió anteriormente, si hay un error de sintaxis mientras se ejecuta un script de Python, éste terminará abruptamente, lo cual es malo para los programadores y los usuarios finales.\n",
    "\n",
    "Sin embargo, si hay una excepción en tiempo de ejecución en Python, te muestra cuál es el tipo de excepción. Puede hacer esto porque tiene varias excepciones incorporadas que, cuando ocurren, pueden ser determinadas por Python y mostrar la información exacta usando trazas. Si no se tratan estas excepciones, el programa se bloquea y para. \n",
    "\n",
    "Todas las excepciones en Python se heredan de la clase BaseException. Vamos a ver algunas excepciones comunes incorporadas en Python que puedes encontrar frecuentemente mientras escribes scripts en Python.\n",
    "\n"
   ]
  },
  {
   "cell_type": "code",
   "execution_count": null,
   "id": "8161d5f7-916a-4d60-9223-edcb24ed082e",
   "metadata": {},
   "outputs": [],
   "source": [
    "result = 0\n",
    "try:\n",
    "    x = int(input(\"Please enter a number: \"))\n",
    "    result = 10/x\n",
    "except TypeError as error1:\n",
    "   print(\"The following error occured - \", error1)\n",
    "   exit(0)\n",
    "except ValueError as error2:\n",
    "   print(\"The following error occured - \", error2)\n",
    "   exit(0)\n",
    "except ZeroDivisionError as error3:\n",
    "   print(\"The following error occured - \", error3)\n",
    "   exit(0)\n",
    "except Exception as error4:\n",
    "   print(\"The following error occured - \", error4)\n",
    "   exit(0)\n",
    "else:\n",
    "   print(\"The result is - \", result)\n",
    "   print(\"The program was executed successfully.\")\n",
    "finally:\n",
    "   print(\"Thanks!\")"
   ]
  },
  {
   "cell_type": "markdown",
   "id": "91d5524d-80ff-49f3-88a4-d164eca936bf",
   "metadata": {},
   "source": [
    "## Lanzamiento de excepciones\n",
    "\n",
    "Como desarrolladores, nosotros también podemos lanzar excepciones como parte de la ejecución de nuestro código usando la palabra clave *raise*:"
   ]
  },
  {
   "cell_type": "code",
   "execution_count": null,
   "id": "94185ba7-9b1c-4acf-bc8c-9c917e5662f2",
   "metadata": {},
   "outputs": [],
   "source": [
    "x = int(input(\"Proporcione un número entero menor que 5:\"))\n",
    "if x > 5:\n",
    "    raise Exception('x should not exceed 5. The value of x was: {}'.format(x))\n"
   ]
  },
  {
   "cell_type": "markdown",
   "id": "be4e8d3b-2c97-4573-bfcd-517723a5c67d",
   "metadata": {},
   "source": [
    "## Aserciones y la excepcion AssertionError\n",
    "\n",
    "En lugar de esperar a que un programa se cuelgue a mitad de ejecución, como desarrollador es más deseable comenzar estableciendo las condiciones necesarias para que la ejecución del programa sea correcta.  Esta se hace con aserciones en Python. Una aserción estable que debe cumple una determinada condición. Si esta condición resulta ser verdadera, el programa puede continuar. Si la condición resulta ser falsa, se lanza una excepción de tipo AssertionError y si está excepción no es capturada en un bloque *try -- except*, la ejecución parará.\n",
    "\n",
    "Vemamos un ejemplo, donde creamos una aserción para comprobar que el código está corriendo en un sistema operativo linux:"
   ]
  },
  {
   "cell_type": "code",
   "execution_count": null,
   "id": "59595428-f5fe-44d8-813f-823596e934aa",
   "metadata": {},
   "outputs": [],
   "source": [
    "import sys\n",
    "assert ('linux' in sys.platform), \"This code runs on Linux only.\""
   ]
  },
  {
   "cell_type": "markdown",
   "id": "dfde6518-8444-4f1d-b26c-cd0b87ebdb56",
   "metadata": {},
   "source": [
    "El uso más común de la sentencia assert es dentro de las funciones, para especificar condiciones necesarias sobre los valores de los parámetros. Si seguimos con el ejemplo de linux anterior podríamos tener el siguiente código:"
   ]
  },
  {
   "cell_type": "code",
   "execution_count": null,
   "id": "0872b50a-ecbd-4421-9bbd-522eea2de9e6",
   "metadata": {},
   "outputs": [],
   "source": [
    "def linux_interaction():\n",
    "    assert ('linux' in sys.platform), \"Function can only run on Linux systems.\"\n",
    "    print('Doing something.')\n",
    "\n",
    "\n",
    "try:\n",
    "    linux_interaction()\n",
    "except:\n",
    "    pass    "
   ]
  },
  {
   "cell_type": "markdown",
   "id": "6276d863-1f17-4140-9abc-39f6b51864d3",
   "metadata": {},
   "source": [
    "Si estás en una máquina Windows o Mac, verás que no se muestra nada por consola, ese es el efecto de la instrucción *pass*, hace que la ejecución continúe como si nada.\n",
    "\n",
    "Otro ejemplo típico del uso de excepciones es el caso en el que debemos abrir un fichero (que puede no existir, no tener permisos de lectura, etc.):"
   ]
  },
  {
   "cell_type": "code",
   "execution_count": null,
   "id": "439959b4-65e8-434c-a501-bc25a354ab65",
   "metadata": {},
   "outputs": [],
   "source": [
    "try:\n",
    "    with open('file.log') as file:\n",
    "        read_data = file.read()\n",
    "except FileNotFoundError as fnf_error:\n",
    "    print(fnf_error)\n"
   ]
  },
  {
   "cell_type": "markdown",
   "id": "bfb66fb4-073e-4d84-8acf-a5356f06b4ee",
   "metadata": {},
   "source": [
    "## Excepciones definidas por el usuario/desarrollador\n",
    "\n",
    "A veces tenemos que definir y lanzar excepciones explícitamente para indicar que algo va mal. Este tipo de excepción se llama excepción definida por el usuario o excepción personalizada.\n",
    "\n",
    "El usuario puede definir excepciones personalizadas creando una nueva clase. Esta nueva clase de excepción tiene que derivar directa o indirectamente de la clase predefinida del lenguaje *Exception*. En Python, la mayoría de las excepciones predefinidas también derivan de la clase Exception.\n",
    "\n",
    "Veamos un ejemplo:\n"
   ]
  },
  {
   "cell_type": "code",
   "execution_count": 7,
   "id": "32b423d5-7403-4882-8b99-a4734320a00a",
   "metadata": {},
   "outputs": [
    {
     "name": "stdin",
     "output_type": "stream",
     "text": [
      "Enter any value in 10 to 50 range:  1\n"
     ]
    },
    {
     "name": "stdout",
     "output_type": "stream",
     "text": [
      "Value is below range..try again\n"
     ]
    },
    {
     "name": "stdin",
     "output_type": "stream",
     "text": [
      "Enter any value in 10 to 50 range:  2\n"
     ]
    },
    {
     "name": "stdout",
     "output_type": "stream",
     "text": [
      "Value is below range..try again\n"
     ]
    },
    {
     "name": "stdin",
     "output_type": "stream",
     "text": [
      "Enter any value in 10 to 50 range:  182\n"
     ]
    },
    {
     "name": "stdout",
     "output_type": "stream",
     "text": [
      "value out of range...try again\n"
     ]
    },
    {
     "name": "stdin",
     "output_type": "stream",
     "text": [
      "Enter any value in 10 to 50 range:  5\n"
     ]
    },
    {
     "name": "stdout",
     "output_type": "stream",
     "text": [
      "Value is below range..try again\n"
     ]
    },
    {
     "name": "stdin",
     "output_type": "stream",
     "text": [
      "Enter any value in 10 to 50 range:  43\n"
     ]
    },
    {
     "name": "stdout",
     "output_type": "stream",
     "text": [
      "Great! value in correct range.\n"
     ]
    }
   ],
   "source": [
    "class Error(Exception):\n",
    "    \"\"\"Base class for other exceptions\"\"\"\n",
    "    pass\n",
    "\n",
    "class ValueTooSmallError(Error):\n",
    "    \"\"\"Raised when the input value is small\"\"\"\n",
    "    pass\n",
    "\n",
    "class ValueTooLargeError(Error):\n",
    "    \"\"\"Raised when the input value is large\"\"\"\n",
    "    pass\n",
    "\n",
    "while(True):\n",
    "    try:\n",
    "        num = int(input(\"Enter any value in 10 to 50 range: \"))\n",
    "        if num < 10:\n",
    "            raise ValueTooSmallError\n",
    "        elif num > 50:\n",
    "            raise ValueTooLargeError\n",
    "        break\n",
    "    except ValueTooSmallError:\n",
    "            print(\"Value is below range..try again\")\n",
    "\n",
    "    except ValueTooLargeError:\n",
    "            print(\"value out of range...try again\")\n",
    "\n",
    "print(\"Great! value in correct range.\")"
   ]
  },
  {
   "cell_type": "markdown",
   "id": "9da981ed-ba61-4ee6-9e54-d78e98aecaf1",
   "metadata": {},
   "source": [
    "## Avisos/advertencias predefinidos/as\n",
    "\n",
    "Varias excepciones predefinidas del lenguaje representan categorías de advertencias. Esta categorización es útil para poder filtrar grupos de advertencias.\n",
    "\n",
    "La advertencia no detiene la ejecución de un programa sino que indica la posible mejora.\n",
    "\n",
    "A continuación proporcionamos una lista de advertencias predefinidas conforme a la documentación del lenguaje:\n",
    "\n",
    "|        Waring Class       |                                                            Meaning                                                           |\n",
    "|:-------------------------:|:----------------------------------------------------------------------------------------------------------------------------:|\n",
    "| Warning                   | Base class for warning categories                                                                                            |\n",
    "| UserWarning               | Base class for warnings generated by user code                                                                               |\n",
    "| DeprecationWarning        | Warnings about deprecated features                                                                                           |\n",
    "| PendingDeprecationWarning | Warnings about features that are obsolete and expected to be deprecated in the future, but are not deprecated at the moment. |\n",
    "| SyntaxWarning             | Warnings about dubious syntax                                                                                                |\n",
    "| RuntimeWarning            | Warnings about the dubious runtime behavior                                                                                  |\n",
    "| FutureWarning             | Warnings about probable mistakes in module imports                                                                           |\n",
    "| ImportWarning             | Warnings about probable mistakes in module imports                                                                           |\n",
    "| UnicodeWarning            | Warnings related to Unicode data                                                                                             |\n",
    "| BytesWarning              | Warnings related to bytes and bytearray.                                                                                     |\n",
    "| ResourceWarning           | Warnings related to resource usage                                                                                           |\n"
   ]
  },
  {
   "cell_type": "markdown",
   "id": "8cc51e28-6b16-4978-b526-092284a24dfe",
   "metadata": {},
   "source": [
    "# Ejercicios\n",
    "\n",
    "## Ejercicio 1:\n",
    "\n",
    "\n",
    "Vas a escribir una calculadora interactiva! Se supone que la entrada del usuario es una fórmula que consiste en un número, un operador (al menos + y -), y otro número, separados por espacios en blanco (por ejemplo, 1 + 1). Divida la entrada del usuario utilizando str.split(), y compruebe si la lista resultante es válida:\n",
    "\n",
    " Si la entrada no consta de 3 elementos, lanza un FormulaError, que es una Excepción personalizada.\n",
    " Intenta convertir la primera y la tercera entrada en un número real en coma flotante (así: valor_flota = floatr(valor_cadena)). Atrapa cualquier ValueError que se produzca, y en su lugar lanza un FormulaError\n",
    "   Si la segunda entrada no es '+' o '-', de nuevo lanza un FormulaError\n",
    "\n",
    "Si la entrada es válida, realiza el cálculo e imprime el resultado. A continuación, se le pide al usuario que proporcione una nueva entrada, y así sucesivamente, hasta que el usuario entre en la opción de abandonar.\n",
    "\n",
    "Una interacción podría ser así:\n",
    "\n",
    "\n",
    "\n",
    "# >>> 1 + 1\n",
    "# 2.0\n",
    "# >>> 3.2 - 1.5\n",
    "# 1.7\n",
    "# >>> quit\n"
   ]
  },
  {
   "cell_type": "code",
   "execution_count": 1,
   "id": "751ddda6-263f-49f0-a0c1-92ff910925bd",
   "metadata": {},
   "outputs": [
    {
     "name": "stdin",
     "output_type": "stream",
     "text": [
      ">>>  quit\n"
     ]
    }
   ],
   "source": [
    "# Le recomendamos crear una excepción personalizada para representar los errores en las fórmulas de entrada\n",
    "# y lanzarla cuando corresponda en las funciones a definir:\n",
    "\n",
    "# Codififique la solución usando funciones, concretamente le recomendamos crear dos funciones:\n",
    "\n",
    "# La primera función tomará la entrada del usuario y sacara los dos números y la cadena con el operador,\n",
    "# devolviendo todos estos datos:\n",
    "def parse_input(user_input):\n",
    "    pass  # TODO: Elminar el pass e implementar la función\n",
    "  \n",
    "# La segunda función tomará los valores ya parseados y convertidos a números y dependiendo del operador\n",
    "# implementará la operación a realizar (como mínimo deben soportarse los operadores +,-,*, y /)\n",
    "def calculate(n1, op, n2):\n",
    "    pass # TODO: Elminar el pass e implementar la función\n",
    "  \n",
    "\n",
    "# Este es bucle principal de ejecución de la calculadora, cuando el usuario escribe quit para.\n",
    "while True:\n",
    "  user_input = input('>>> ')\n",
    "  if user_input == 'quit':\n",
    "    break\n",
    "  # TODO: implementar el ciclo principal de llamadas a las otras dos funciones."
   ]
  }
 ],
 "metadata": {
  "kernelspec": {
   "display_name": "Python 3 (ipykernel)",
   "language": "python",
   "name": "python3"
  },
  "language_info": {
   "codemirror_mode": {
    "name": "ipython",
    "version": 3
   },
   "file_extension": ".py",
   "mimetype": "text/x-python",
   "name": "python",
   "nbconvert_exporter": "python",
   "pygments_lexer": "ipython3",
   "version": "3.9.7"
  }
 },
 "nbformat": 4,
 "nbformat_minor": 5
}
