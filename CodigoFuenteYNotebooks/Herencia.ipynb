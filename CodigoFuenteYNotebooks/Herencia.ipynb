{
 "cells": [
  {
   "cell_type": "markdown",
   "id": "94b79825-3f72-4fc3-bb6f-86873175b487",
   "metadata": {},
   "source": [
    "# Herencia, abstracción y polimorfismo\n",
    "\n",
    "Tal y como vimos en el notebook anterior, los principios clave de la orientación a objetos se resumen en la siguiente imagen:\n",
    "\n",
    "<img src=\"https://media.geeksforgeeks.org/wp-content/uploads/20220608174843/OOPS1-282x300.png\"/>\n",
    "\n",
    "\n",
    "En este notebook trataremos los conceptos de la parte de abajo de la imagen, abstracción, herencia, y polimorfismo.\n",
    "\n",
    "\n",
    "## Herencia Orientada a Objetos en Python\n",
    "\n",
    "La herencia es el proceso por el cual una clase adquiere los atributos y métodos de otra. Las clases recién formadas se llaman clases hijas o subclases, y las clases de las que derivan las clases hijas se llaman clases padre o superclases.\n",
    "\n",
    "Las clases hijas pueden anular o ampliar los atributos y métodos de las clases padre. En otras palabras, las clases hijas heredan todos los atributos y métodos de las clases padre, pero también pueden especificar atributos y métodos exclusivos para ellas.\n",
    "\n",
    "Aunque la analogía no es perfecta, se puede pensar en la herencia de objetos como en la herencia genética.\n",
    "\n",
    "Puede que hayas heredado el color de tu pelo de tu madre. Es un atributo con el que has nacido. Supongamos que decides teñirte el pelo de morado. Suponiendo que tu madre no tenga el pelo morado, acabas de anular el atributo del color del pelo que has heredado de tu madre.\n",
    "\n",
    "También heredas, en cierto modo, tu idioma de tus padres. Si tus padres hablan inglés, tú también hablarás inglés. Ahora imagina que decides aprender un segundo idioma, como el alemán. En este caso has ampliado tus atributos porque has añadido un atributo que tus padres no tienen.\n",
    "\n",
    "Imagina por un momento que estás en un parque para perros. Hay muchos perros de diferentes razas en el parque, todos ellos realizando diversos comportamientos caninos.\n",
    "\n",
    "Suponga ahora que quiere modelar el parque de perros con clases Python. La clase Perro que escribimos en el notebook anterior puede distinguir a los perros por su nombre y edad, pero no por su raza.\n",
    "\n",
    "Podrías modificar la clase Perro en la ventana del editor añadiendo un atributo de raza."
   ]
  },
  {
   "cell_type": "code",
   "execution_count": 18,
   "id": "2efd81f5-0ae8-43c9-a87c-cdedbc3175db",
   "metadata": {},
   "outputs": [
    {
     "name": "stdout",
     "output_type": "stream",
     "text": [
      "Miles tiene 4 años\n",
      "Jack es un Bulldog y dice GUAU!!\n"
     ]
    }
   ],
   "source": [
    "class Perro:\n",
    "    especie = \"Canis familiaris\"\n",
    "\n",
    "    def __init__(self, nombre, edad, raza=\"Chucho\"):\n",
    "        self.nombre = nombre\n",
    "        self.edad = edad\n",
    "        self.raza = raza\n",
    "\n",
    "    def __str__(self):    # OJO!! Este métdodo determina como se muestra un objeto por consola con print\n",
    "        return f\"{self.nombre} tiene {self.edad} años\"\n",
    "\n",
    "    def ladrar(self, sound):\n",
    "        return f\"{self.nombre} es un {self.raza} y dice {sound}\"\n",
    "\n",
    "miles = Perro(\"Miles\", 4, \"Terrier\")\n",
    "buddy = Perro(\"Buddy\", 9, \"Pastor alemán\")\n",
    "jack = Perro(\"Jack\", 3, \"Bulldog\")\n",
    "jim = Perro(\"Jim\", 5, \"Bulldog\")\n",
    "\n",
    "print(miles)\n",
    "print(jack.ladrar(\"GUAU!!\"))"
   ]
  },
  {
   "cell_type": "markdown",
   "id": "92d4a718-e90f-43ec-8fbe-fc4b797f4f2c",
   "metadata": {},
   "source": [
    "Podemos crear clases que representen a los perros de distintas razas, y hacer que hereden tanto los atributos como el comportamiento general de la clase Perro:"
   ]
  },
  {
   "cell_type": "code",
   "execution_count": 24,
   "id": "51a41705-ce7a-4de5-9046-c5f53d8678d9",
   "metadata": {},
   "outputs": [
    {
     "name": "stdout",
     "output_type": "stream",
     "text": [
      "<class '__main__.Bulldog'>\n",
      "Jim tiene 5 años\n",
      "Canis familiaris\n",
      "Jim es un Chucho y dice Wooof!!\n"
     ]
    }
   ],
   "source": [
    "class Terrier(Perro):\n",
    "    pass\n",
    "\n",
    "class PastorAleman(Perro):\n",
    "    pass\n",
    "\n",
    "class Bulldog(Perro):\n",
    "    pass\n",
    "\n",
    "miles =Terrier(\"Miles\", 4)\n",
    "buddy = PastorAleman(\"Buddy\", 9)\n",
    "jack = Bulldog(\"Jack\", 3)\n",
    "jim = Bulldog(\"Jim\", 5)\n",
    "\n",
    "print(type(jim))\n",
    "print(jim)\n",
    "print(jim.especie)\n",
    "print(jim.ladrar(\"Wooof!!\"))"
   ]
  },
  {
   "cell_type": "markdown",
   "id": "ddf46001-954f-4a3d-aa1a-6d54955565f3",
   "metadata": {},
   "source": [
    "¿Y si quieres determinar si Jim es también una instancia de la clase Perro? Puedes hacerlo con la función isinstance():"
   ]
  },
  {
   "cell_type": "code",
   "execution_count": 25,
   "id": "80b74ffe-852e-4d68-8022-2b1de80abf78",
   "metadata": {},
   "outputs": [
    {
     "data": {
      "text/plain": [
       "True"
      ]
     },
     "execution_count": 25,
     "metadata": {},
     "output_type": "execute_result"
    }
   ],
   "source": [
    "isinstance(jim,Perro)"
   ]
  },
  {
   "cell_type": "markdown",
   "id": "0bc344cd-df1f-425e-b306-e897224a37ad",
   "metadata": {},
   "source": [
    "Observe que isinstance() toma dos argumentos, un objeto y una clase. En el ejemplo anterior, isinstance() comprueba si jim es una instancia de la clase Perro y devuelve True.\n",
    "\n",
    "Los objetos miles, buddy, jack y jim son todos instancias de Pero, pero miles no es una instancia de Bulldog, y jack no es una instancia de PastorAleman."
   ]
  },
  {
   "cell_type": "code",
   "execution_count": 29,
   "id": "5529a4cb-edd8-4a4a-8b5a-555316e1188a",
   "metadata": {},
   "outputs": [
    {
     "name": "stdout",
     "output_type": "stream",
     "text": [
      "False\n",
      "False\n"
     ]
    }
   ],
   "source": [
    "print(isinstance(miles, Bulldog))\n",
    "\n",
    "print(isinstance(jack, PastorAleman))"
   ]
  },
  {
   "cell_type": "markdown",
   "id": "4e80d779-bcdc-4110-9544-e8a9a327110b",
   "metadata": {},
   "source": [
    "Vamos a sobreescribir la funcionalidad del método ladrar en la clase Terrier, concretamente, haremos que no necesite especificarse el sonido obligatoriamente:"
   ]
  },
  {
   "cell_type": "code",
   "execution_count": 31,
   "id": "24b9c821-1e17-445b-be10-cb099d3b49da",
   "metadata": {},
   "outputs": [
    {
     "data": {
      "text/plain": [
       "'Miles dice ARF! ARF! ARF!'"
      ]
     },
     "execution_count": 31,
     "metadata": {},
     "output_type": "execute_result"
    }
   ],
   "source": [
    "class Terrier(Perro):\n",
    "    def ladrar(self, sound=\"ARF! ARF! ARF!\"):\n",
    "        return f\"{self.nombre} dice {sound}\"\n",
    "    \n",
    "miles=Terrier(\"Miles\",4)\n",
    "miles.ladrar()"
   ]
  },
  {
   "cell_type": "markdown",
   "id": "fb926d61-4c05-4be6-b5f4-f2433dd4b045",
   "metadata": {},
   "source": [
    "## Polimorfismo\n",
    "\n",
    "El término \"polimorfismo\" procede del griego y significa \"algo que adopta múltiples formas\". \n",
    "\n",
    "El polimorfismo en nuestro contexto es la capacidad (en POO) de utilizar una interfaz común para múltiples formas (tipos de datos).\n",
    "\n",
    "Supongamos que necesitamos colorear una forma, hay múltiples opciones de forma (rectángulo, cuadrado, círculo). Sin embargo, podemos utilizar el mismo método para colorear cualquier forma. Este concepto se llama Polimorfismo.\n",
    "\n",
    "El polimorfismo se refiere a la capacidad de una subclase de adaptar un método que ya existe en su superclase para satisfacer sus necesidades. Dicho de otro modo, una subclase puede utilizar un método de su superclase tal cual o modificarlo según sea necesario. Veámoslo con un ejemplo:"
   ]
  },
  {
   "cell_type": "code",
   "execution_count": 35,
   "id": "c3a93c6b-6710-48a7-9a4c-0a612f69ce5c",
   "metadata": {},
   "outputs": [],
   "source": [
    "class Book:\n",
    "    def __init__(self, title, quantity, author, price):\n",
    "        self.title = title\n",
    "        self.quantity = quantity\n",
    "        self.author = author\n",
    "        self.__price = price\n",
    "        self.__discount = None\n",
    "\n",
    "    def set_discount(self, discount):\n",
    "        self.__discount = discount\n",
    "\n",
    "    def get_price(self):\n",
    "        if self.__discount:\n",
    "            return self.__price * (1-self.__discount)\n",
    "        return self.__price\n",
    "\n",
    "    def __repr__(self):\n",
    "        return f\"Book: {self.title}, Quantity: {self.quantity}, Author: {self.author}, Price: {self.get_price()}\"\n",
    "\n",
    "\n",
    "class Novel(Book):\n",
    "    def __init__(self, title, quantity, author, price, pages):\n",
    "        super().__init__(title, quantity, author, price)\n",
    "        self.pages = pages\n",
    "\n",
    "\n",
    "\n",
    "        \n",
    "class Academic(Book):\n",
    "    def __init__(self, title, quantity, author, price, branch):\n",
    "        super().__init__(title, quantity, author, price)\n",
    "        self.branch = branch\n",
    "\n",
    "    def __repr__(self):\n",
    "        return f\"Book: {self.title}, Branch: {self.branch}, Quantity: {self.quantity}, Author: {self.author}, Price: {self.get_price()}\""
   ]
  },
  {
   "cell_type": "markdown",
   "id": "657d0b7b-4f42-4322-a8b2-e5f3bf517cad",
   "metadata": {},
   "source": [
    "La superclase Book tiene un método específico llamado __repr__. Este método puede ser utilizado por la subclase Novel para que sea llamado cada vez que se imprima un objeto.\n",
    "\n",
    "La subclase Academic, por otro lado, está definida con su propia función especial __repr__ en el código de ejemplo anterior. La subclase Academic invocará su propio método suprimiendo el mismo método presente en su superclase, gracias al polimorfismo.\n"
   ]
  },
  {
   "cell_type": "code",
   "execution_count": 42,
   "id": "4fec277c-2916-44f8-b886-d4b6233f1ba9",
   "metadata": {},
   "outputs": [
    {
     "name": "stdout",
     "output_type": "stream",
     "text": [
      "Book: Two States, Quantity: 20, Author: Chetan Bhagat, Price: 160.0\n",
      "Book: Python Foundations, Branch: IT, Quantity: 12, Author: PSF, Price: 655\n"
     ]
    }
   ],
   "source": [
    "novel1 = Novel('Two States', 20, 'Chetan Bhagat', 200, 187)\n",
    "novel1.set_discount(0.20)\n",
    "\n",
    "academic1 = Academic('Python Foundations', 12, 'PSF', 655, 'IT')\n",
    "\n",
    "\n",
    "books:[Book]=[novel1,academic1]\n",
    "\n",
    "for book in books:\n",
    "    print(book)  #Observar que aunque llamamos a la misma función el resultado es diferente para cada tipo de libro...\n"
   ]
  },
  {
   "cell_type": "markdown",
   "id": "3f0a4c73-af2b-451b-979d-792574170510",
   "metadata": {},
   "source": [
    "## Abstracción\n",
    "\n",
    "La abstracción no está soportada directamente en Python. El uso de una librería sin embargo, permite la abstracción en Python.\n",
    "\n",
    "Si se declara un método abstracto en una superclase, las subclases que heredan de la superclase deben tener su propia implementación del método.\n",
    "\n",
    "El método abstracto de una superclase nunca será llamado por sus subclases. Pero la abstracción ayuda a mantener una estructura similar en todas las subclases.\n",
    "\n",
    "En nuestra clase padre Libro, hemos definido el método __repr__. Hagamos ese método abstracto, obligando a cada subclase a tener obligatoriamente su propio método __repr__."
   ]
  },
  {
   "cell_type": "code",
   "execution_count": 43,
   "id": "74c45f3e-cf49-4358-807a-f181b60c8bda",
   "metadata": {},
   "outputs": [
    {
     "ename": "TypeError",
     "evalue": "Can't instantiate abstract class Novel with abstract method __repr__",
     "output_type": "error",
     "traceback": [
      "\u001b[1;31m---------------------------------------------------------------------------\u001b[0m",
      "\u001b[1;31mTypeError\u001b[0m                                 Traceback (most recent call last)",
      "\u001b[1;32m~\\AppData\\Local\\Temp/ipykernel_28416/2439265343.py\u001b[0m in \u001b[0;36m<module>\u001b[1;34m\u001b[0m\n\u001b[0;32m     38\u001b[0m \u001b[1;33m\u001b[0m\u001b[0m\n\u001b[0;32m     39\u001b[0m \u001b[1;33m\u001b[0m\u001b[0m\n\u001b[1;32m---> 40\u001b[1;33m \u001b[0mnovel1\u001b[0m \u001b[1;33m=\u001b[0m \u001b[0mNovel\u001b[0m\u001b[1;33m(\u001b[0m\u001b[1;34m'Two States'\u001b[0m\u001b[1;33m,\u001b[0m \u001b[1;36m20\u001b[0m\u001b[1;33m,\u001b[0m \u001b[1;34m'Chetan Bhagat'\u001b[0m\u001b[1;33m,\u001b[0m \u001b[1;36m200\u001b[0m\u001b[1;33m,\u001b[0m \u001b[1;36m187\u001b[0m\u001b[1;33m)\u001b[0m\u001b[1;33m\u001b[0m\u001b[1;33m\u001b[0m\u001b[0m\n\u001b[0m\u001b[0;32m     41\u001b[0m \u001b[0mnovel1\u001b[0m\u001b[1;33m.\u001b[0m\u001b[0mset_discount\u001b[0m\u001b[1;33m(\u001b[0m\u001b[1;36m0.20\u001b[0m\u001b[1;33m)\u001b[0m\u001b[1;33m\u001b[0m\u001b[1;33m\u001b[0m\u001b[0m\n\u001b[0;32m     42\u001b[0m \u001b[1;33m\u001b[0m\u001b[0m\n",
      "\u001b[1;31mTypeError\u001b[0m: Can't instantiate abstract class Novel with abstract method __repr__"
     ]
    }
   ],
   "source": [
    "from abc import ABC, abstractmethod\n",
    "\n",
    "\n",
    "class Book(ABC):\n",
    "    def __init__(self, title, quantity, author, price):\n",
    "        self.title = title\n",
    "        self.quantity = quantity\n",
    "        self.author = author\n",
    "        self.__price = price\n",
    "        self.__discount = None\n",
    "\n",
    "    def set_discount(self, discount):\n",
    "        self.__discount = discount\n",
    "\n",
    "    def get_price(self):\n",
    "        if self.__discount:\n",
    "            return self.__price * (1-self.__discount)\n",
    "        return self.__price\n",
    "\n",
    "    @abstractmethod\n",
    "    def __repr__(self):\n",
    "        return f\"Book: {self.title}, Quantity: {self.quantity}, Author: {self.author}, Price: {self.get_price()}\"\n",
    "\n",
    "\n",
    "class Novel(Book):\n",
    "    def __init__(self, title, quantity, author, price, pages):\n",
    "        super().__init__(title, quantity, author, price)\n",
    "        self.pages = pages\n",
    "\n",
    "\n",
    "class Academic(Book):\n",
    "    def __init__(self, title, quantity, author, price, branch):\n",
    "        super().__init__(title, quantity, author, price)\n",
    "        self.branch = branch\n",
    "\n",
    "    def __repr__(self):\n",
    "        return f\"Book: {self.title}, Branch: {self.branch}, Quantity: {self.quantity}, Author: {self.author}, Price: {self.get_price()}\"\n",
    "\n",
    "\n",
    "novel1 = Novel('Two States', 20, 'Chetan Bhagat', 200, 187)\n",
    "novel1.set_discount(0.20)\n",
    "\n",
    "academic1 = Academic('Python Foundations', 12, 'PSF', 655, 'IT')\n",
    "\n",
    "print(novel1)\n",
    "print(academic1)"
   ]
  },
  {
   "cell_type": "markdown",
   "id": "92af1acb-2a3a-4a4f-b469-d5a8f26e5e2f",
   "metadata": {},
   "source": [
    "En el código anterior, hemos heredado la clase ABC para crear la clase Book. Hemos hecho abstracto el método __repr__ añadiendo el decorador @abstractmethod.\n",
    "\n",
    "Al crear la clase Novel, hemos omitido intencionadamente la implementación del método __repr__ para ver qué ocurre.\n",
    "\n",
    "Obtenemos un TypeError diciendo que no podemos instanciar un objeto de la clase Novel. Añadamos la implementación del método __repr__ y veamos qué ocurre ahora."
   ]
  },
  {
   "cell_type": "code",
   "execution_count": 45,
   "id": "3db6b863-be69-468e-a456-26480307115f",
   "metadata": {},
   "outputs": [
    {
     "name": "stdout",
     "output_type": "stream",
     "text": [
      "Book: Two States, Quantity: 20, Author: Chetan Bhagat, Price: 160.0\n",
      "Book: Python Foundations, Branch: IT, Quantity: 12, Author: PSF, Price: 655\n"
     ]
    }
   ],
   "source": [
    "class Novel(Book):\n",
    "    def __init__(self, title, quantity, author, price, pages):\n",
    "        super().__init__(title, quantity, author, price)\n",
    "        self.pages = pages\n",
    "\n",
    "    def __repr__(self):\n",
    "        return f\"Book: {self.title}, Quantity: {self.quantity}, Author: {self.author}, Price: {self.get_price()}\"\n",
    "    \n",
    "novel1 = Novel('Two States', 20, 'Chetan Bhagat', 200, 187)\n",
    "novel1.set_discount(0.20)\n",
    "\n",
    "academic1 = Academic('Python Foundations', 12, 'PSF', 655, 'IT')\n",
    "\n",
    "print(novel1)\n",
    "print(academic1)"
   ]
  },
  {
   "cell_type": "markdown",
   "id": "1f8a23ff-15e6-4cab-987e-c36a69df3d63",
   "metadata": {},
   "source": [
    "## Enumerados \n",
    "\n",
    "En python es posible crear clases especiales que contienen un único atributo que puede tomar conjunto discreto de valores (descritos explícitamente por el programador). A continaución mostramos un ejemplo con un conjunto discreto de colores posibles para un producto:"
   ]
  },
  {
   "cell_type": "code",
   "execution_count": 7,
   "id": "d685aa48-1f41-4d26-940c-1ecf1f5fc1cc",
   "metadata": {},
   "outputs": [
    {
     "name": "stdout",
     "output_type": "stream",
     "text": [
      "<Color.RED: 1>\n",
      "<enum 'Color'>\n"
     ]
    }
   ],
   "source": [
    "from enum import Enum\n",
    "class Color(Enum):\n",
    "     RED = 1\n",
    "     GREEN = 2\n",
    "     BLUE = 3\n",
    "        \n",
    "print(repr(Color.RED))\n",
    "print(type(Color.RED))"
   ]
  },
  {
   "cell_type": "markdown",
   "id": "aa562787-4dc2-46ef-be92-dff4add496f3",
   "metadata": {},
   "source": [
    "Los valores de los miembros pueden ser cualquier cosa: int, str, etc. Si el valor exacto no es importante, podemos invocar a *auto()^* y se generará un valor apropiado. "
   ]
  },
  {
   "cell_type": "code",
   "execution_count": 6,
   "id": "29a38088-358d-4d8a-ab9b-c3c12883cd12",
   "metadata": {},
   "outputs": [
    {
     "name": "stdout",
     "output_type": "stream",
     "text": [
      "<Color.RED: 1>\n",
      "<enum 'Color'>\n"
     ]
    }
   ],
   "source": [
    "from enum import Enum, auto\n",
    "class Color(Enum):\n",
    "     RED = auto()\n",
    "     BLUE = auto()\n",
    "     GREEN = auto()\n",
    "        \n",
    "print(repr(Color.RED))\n",
    "print(type(Color.RED))"
   ]
  },
  {
   "cell_type": "markdown",
   "id": "3531b04d-9d42-4741-9b24-3f0c4185dc45",
   "metadata": {},
   "source": [
    "Por defecto, las enumeraciones permiten múltiples nombres como alias para el mismo valor. Cuando no se desea este comportamiento, se puede utilizar el siguiente decorador para garantizar que cada valor se utilice sólo una vez en la enumeración:"
   ]
  },
  {
   "cell_type": "code",
   "execution_count": 8,
   "id": "93e1ef24-ff8b-46fd-a493-026716767280",
   "metadata": {},
   "outputs": [
    {
     "ename": "ValueError",
     "evalue": "duplicate values found in <enum 'Mistake'>: FOUR -> THREE",
     "output_type": "error",
     "traceback": [
      "\u001b[1;31m---------------------------------------------------------------------------\u001b[0m",
      "\u001b[1;31mValueError\u001b[0m                                Traceback (most recent call last)",
      "\u001b[1;32m~\\AppData\\Local\\Temp/ipykernel_12036/1740516133.py\u001b[0m in \u001b[0;36m<module>\u001b[1;34m\u001b[0m\n\u001b[0;32m      1\u001b[0m \u001b[1;32mfrom\u001b[0m \u001b[0menum\u001b[0m \u001b[1;32mimport\u001b[0m \u001b[0mEnum\u001b[0m\u001b[1;33m,\u001b[0m \u001b[0munique\u001b[0m\u001b[1;33m\u001b[0m\u001b[1;33m\u001b[0m\u001b[0m\n\u001b[0;32m      2\u001b[0m \u001b[1;33m@\u001b[0m\u001b[0munique\u001b[0m\u001b[1;33m\u001b[0m\u001b[1;33m\u001b[0m\u001b[0m\n\u001b[1;32m----> 3\u001b[1;33m \u001b[1;32mclass\u001b[0m \u001b[0mMistake\u001b[0m\u001b[1;33m(\u001b[0m\u001b[0mEnum\u001b[0m\u001b[1;33m)\u001b[0m\u001b[1;33m:\u001b[0m\u001b[1;33m\u001b[0m\u001b[1;33m\u001b[0m\u001b[0m\n\u001b[0m\u001b[0;32m      4\u001b[0m      \u001b[0mONE\u001b[0m \u001b[1;33m=\u001b[0m \u001b[1;36m1\u001b[0m\u001b[1;33m\u001b[0m\u001b[1;33m\u001b[0m\u001b[0m\n\u001b[0;32m      5\u001b[0m      \u001b[0mTWO\u001b[0m \u001b[1;33m=\u001b[0m \u001b[1;36m2\u001b[0m\u001b[1;33m\u001b[0m\u001b[1;33m\u001b[0m\u001b[0m\n",
      "\u001b[1;32m~\\anaconda3\\lib\\enum.py\u001b[0m in \u001b[0;36munique\u001b[1;34m(enumeration)\u001b[0m\n\u001b[0;32m   1011\u001b[0m         alias_details = ', '.join(\n\u001b[0;32m   1012\u001b[0m                 [\"%s -> %s\" % (alias, name) for (alias, name) in duplicates])\n\u001b[1;32m-> 1013\u001b[1;33m         raise ValueError('duplicate values found in %r: %s' %\n\u001b[0m\u001b[0;32m   1014\u001b[0m                 (enumeration, alias_details))\n\u001b[0;32m   1015\u001b[0m     \u001b[1;32mreturn\u001b[0m \u001b[0menumeration\u001b[0m\u001b[1;33m\u001b[0m\u001b[1;33m\u001b[0m\u001b[0m\n",
      "\u001b[1;31mValueError\u001b[0m: duplicate values found in <enum 'Mistake'>: FOUR -> THREE"
     ]
    }
   ],
   "source": [
    "from enum import Enum, unique\n",
    "@unique\n",
    "class Mistake(Enum):\n",
    "     ONE = 1\n",
    "     TWO = 2\n",
    "     THREE = 3\n",
    "     FOUR = 3"
   ]
  },
  {
   "cell_type": "markdown",
   "id": "654d58ed-2004-48a2-a59d-55a34b626982",
   "metadata": {},
   "source": [
    "El atributo especial __members__ es un diccionario/mapa ordenado de nombres a miembros de sólo lectura. Incluye todos los nombres definidos en la enumeración, incluidos los alias:"
   ]
  },
  {
   "cell_type": "code",
   "execution_count": 9,
   "id": "eafb9e4e-e50f-4819-be83-69010bbd3c78",
   "metadata": {},
   "outputs": [
    {
     "name": "stdout",
     "output_type": "stream",
     "text": [
      "RED Color.RED\n",
      "GREEN Color.GREEN\n",
      "BLUE Color.BLUE\n"
     ]
    }
   ],
   "source": [
    "for name, member in Color.__members__.items():\n",
    "    print(name, member)"
   ]
  },
  {
   "cell_type": "markdown",
   "id": "50aef84a-8783-4fc6-868b-87a6de7e2cf8",
   "metadata": {},
   "source": [
    "Podemos sobreescribir los operadores de comparación para crear enumerados ordenados que los soporten. Un ejemplo:"
   ]
  },
  {
   "cell_type": "code",
   "execution_count": 12,
   "id": "c1e32840-1a7a-49bf-9c8e-ec80aa021efe",
   "metadata": {},
   "outputs": [
    {
     "data": {
      "text/plain": [
       "True"
      ]
     },
     "execution_count": 12,
     "metadata": {},
     "output_type": "execute_result"
    }
   ],
   "source": [
    "class OrderedEnum(Enum):\n",
    "     def __ge__(self, other):\n",
    "         if self.__class__ is other.__class__:\n",
    "             return self.value >= other.value\n",
    "         return NotImplemented\n",
    "     def __gt__(self, other):\n",
    "         if self.__class__ is other.__class__:\n",
    "             return self.value > other.value\n",
    "         return NotImplemented\n",
    "     def __le__(self, other):\n",
    "         if self.__class__ is other.__class__:\n",
    "             return self.value <= other.value\n",
    "         return NotImplemented\n",
    "     def __lt__(self, other):\n",
    "         if self.__class__ is other.__class__:\n",
    "             return self.value < other.value\n",
    "         return NotImplemented\n",
    "\n",
    "class Grade(OrderedEnum):\n",
    "     A = 5\n",
    "     B = 4\n",
    "     C = 3\n",
    "     D = 2\n",
    "     F = 1\n",
    "\n",
    "Grade.C < Grade.A"
   ]
  },
  {
   "cell_type": "markdown",
   "id": "0be90051-ee76-4acf-b0f9-194ea27b65e9",
   "metadata": {},
   "source": [
    "Como cualquier clase, los enumerados puede definir atributos y un constructor. Veamos un ejemplo de dimensiones planetarias:"
   ]
  },
  {
   "cell_type": "code",
   "execution_count": 14,
   "id": "e3a80546-174a-4c81-98d7-0de0751bce14",
   "metadata": {},
   "outputs": [
    {
     "name": "stdout",
     "output_type": "stream",
     "text": [
      "6378140.0\n",
      "9.802652743337129\n"
     ]
    }
   ],
   "source": [
    "class Planet(Enum):\n",
    "     MERCURY = (3.303e+23, 2.4397e6)\n",
    "     VENUS   = (4.869e+24, 6.0518e6)\n",
    "     EARTH   = (5.976e+24, 6.37814e6)\n",
    "     MARS    = (6.421e+23, 3.3972e6)\n",
    "     JUPITER = (1.9e+27,   7.1492e7)\n",
    "     SATURN  = (5.688e+26, 6.0268e7)\n",
    "     URANUS  = (8.686e+25, 2.5559e7)\n",
    "     NEPTUNE = (1.024e+26, 2.4746e7)\n",
    "     def __init__(self, mass, radius):\n",
    "         self.mass = mass       # in kilograms\n",
    "         self.radius = radius   # in meters\n",
    "     @property\n",
    "     def surface_gravity(self):\n",
    "         # universal gravitational constant  (m3 kg-1 s-2)\n",
    "         G = 6.67300E-11\n",
    "         return G * self.mass / (self.radius * self.radius)\n",
    "\n",
    "print(Planet.EARTH.radius)\n",
    "print(Planet.EARTH.surface_gravity)"
   ]
  },
  {
   "cell_type": "markdown",
   "id": "bc4c1163-1d82-44a1-8a23-1b0a6d1918d2",
   "metadata": {},
   "source": [
    "# Ejercicios: \n",
    "\n",
    "## Ejericio 1:\n",
    "\n",
    "Cree una jerarquía de vehículos que herede de Vehículo incluyendo: Coche, Autobús y Moto, todos ellos con un número de asientos. La clase *Moto* tendrá un atributo adicional llamado sidecar de tipo booleano, de manera que si su valor es cierto el número de asientos debe ser 2, en caso contrario será siempre 1 (por tanto, el constructor de la clase Moto no tendrá un parámetro asientos, sino un parámetro llamado sidecar). El número de asientos de un autobús debe ser siempre superior a 7 y el de un coche menor que 8 en caso contrario debe lanzarse una excepción. Añada un atributo tipo a la clase coche que pueda tomar los siguientes valores \"Cabrio\", \"Berlina\", \"Monovolumen\" y \"SUV\" mediante un enumerado.\n",
    "\n",
    "Cree el vehículo que usa más comumente mediante las jerarquía de clases generada."
   ]
  }
 ],
 "metadata": {
  "kernelspec": {
   "display_name": "Python 3 (ipykernel)",
   "language": "python",
   "name": "python3"
  },
  "language_info": {
   "codemirror_mode": {
    "name": "ipython",
    "version": 3
   },
   "file_extension": ".py",
   "mimetype": "text/x-python",
   "name": "python",
   "nbconvert_exporter": "python",
   "pygments_lexer": "ipython3",
   "version": "3.9.7"
  }
 },
 "nbformat": 4,
 "nbformat_minor": 5
}
