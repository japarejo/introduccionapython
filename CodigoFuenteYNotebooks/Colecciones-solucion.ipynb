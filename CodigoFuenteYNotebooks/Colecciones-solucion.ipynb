{
 "cells": [
  {
   "cell_type": "markdown",
   "id": "63743f9b-be88-4ab2-b353-2d1fea5f16c5",
   "metadata": {},
   "source": [
    "# Colecciones de datos en python\n",
    "\n",
    "Las colecciones son estructura de datos que pueden almacenar más de un valor. \n",
    "\n",
    "## Listas\n",
    "El típo más simple de colección en python es la lista. Las listas en python se declaran enumerando los valores entre corchetes, son mutables y ordenadas:\n",
    "\n"
   ]
  },
  {
   "cell_type": "code",
   "execution_count": null,
   "id": "fb918008-3c57-4f09-a945-0d3426a41f43",
   "metadata": {},
   "outputs": [],
   "source": [
    "lista=[\"esto\",\"es\",\"una\",\"lista\",\"de\",\"cadenas\"]\n",
    "print(lista)\n",
    "for palabra in lista:\n",
    "    print(palabra)"
   ]
  },
  {
   "cell_type": "markdown",
   "id": "6d9a2e69-fe5f-40ee-99ad-40f17a42db7f",
   "metadata": {},
   "source": [
    "Los datos que puede contener una lista pueden ser de distinto tipo:"
   ]
  },
  {
   "cell_type": "code",
   "execution_count": null,
   "id": "10240a34-ac51-4759-a5d7-416e95ad8c2d",
   "metadata": {},
   "outputs": [],
   "source": [
    "datosVarios =[\"hola\",2,True,5.0]\n",
    "print(datosVarios)"
   ]
  },
  {
   "cell_type": "markdown",
   "id": "4b18881d-03d7-40cc-a891-1c3769fa2532",
   "metadata": {},
   "source": [
    "Por otro lado, poodemos especificar el tipo de datos que debe contener la lista si lo deseamos:"
   ]
  },
  {
   "cell_type": "code",
   "execution_count": null,
   "id": "54e25700-f418-4e89-b076-f3bba74d5934",
   "metadata": {},
   "outputs": [],
   "source": [
    "listaDeEnteros:list[int]=[1,2,3,5,7]\n",
    "print(listaDeEnteros)"
   ]
  },
  {
   "cell_type": "markdown",
   "id": "3a8bea87-f10e-4694-83b2-b68b13ea239f",
   "metadata": {},
   "source": [
    "También podemos construir los elementos de una lista a través de un bucle for interno:"
   ]
  },
  {
   "cell_type": "code",
   "execution_count": null,
   "id": "35a28ca6-6476-43c4-b074-d7c0f323e7cc",
   "metadata": {},
   "outputs": [],
   "source": [
    "cuadrados=[x*x for x in range(1,11)]\n",
    "print(cuadrados)"
   ]
  },
  {
   "cell_type": "markdown",
   "id": "8b8f15c0-2cfb-46a2-8be2-ec62328f05d1",
   "metadata": {},
   "source": [
    "De hecho podemos incluso combinar esta manera de construir las listas con criterios de filtrado:"
   ]
  },
  {
   "cell_type": "code",
   "execution_count": null,
   "id": "dc737bfb-8d10-4255-a24a-2e8a1a6fbe78",
   "metadata": {},
   "outputs": [],
   "source": [
    "frutas = [\"apple\", \"banana\", \"cherry\", \"kiwi\", \"mango\"]\n",
    "\n",
    "newlist = [x for x in frutas if \"a\" in x]\n",
    "\n",
    "print(newlist) "
   ]
  },
  {
   "cell_type": "markdown",
   "id": "b7d1d64c-c59f-4f00-bf10-dad26bcc70e9",
   "metadata": {},
   "source": [
    "Las listas en python son indexables mediante el operador '[]' (con el índice comenzando en la posición 0):"
   ]
  },
  {
   "cell_type": "code",
   "execution_count": null,
   "id": "bffe248d-7492-40f3-8ba1-a53477b87ce6",
   "metadata": {},
   "outputs": [],
   "source": [
    "print(cuadrados[0])"
   ]
  },
  {
   "cell_type": "markdown",
   "id": "2d1d14bc-1d60-4fc5-a140-489ce91a1c79",
   "metadata": {},
   "source": [
    "Podemos indexar de también desde el final usando índices negativos o usar rangos para seleccionar un subconjunto de elementos de la lista:"
   ]
  },
  {
   "cell_type": "code",
   "execution_count": null,
   "id": "42e6e0d4-2333-45d8-9960-855c3813bf4b",
   "metadata": {},
   "outputs": [],
   "source": [
    "print(cuadrados[-1])\n",
    "print(cuadrados[2:4])"
   ]
  },
  {
   "cell_type": "markdown",
   "id": "d1f5b7f3-14bb-4d5d-a1e2-79ff2deec8e2",
   "metadata": {},
   "source": [
    "Podemos añadir elementos a las listas con el método append y modificar los elementos de la lista:"
   ]
  },
  {
   "cell_type": "code",
   "execution_count": null,
   "id": "948255b0-c62e-46d3-ad9a-c6d51d0ba228",
   "metadata": {},
   "outputs": [],
   "source": [
    "cuadrados.append(111)\n",
    "print(cuadrados)\n",
    "cuadrados[10]=12*12\n",
    "print(cuadrados)"
   ]
  },
  {
   "cell_type": "markdown",
   "id": "6369ef27-adbd-438e-b9d6-e69d3a9cbe5e",
   "metadata": {},
   "source": [
    "También podemos insertar elementos en una posición concreta de la lista mediante la función insert:"
   ]
  },
  {
   "cell_type": "code",
   "execution_count": null,
   "id": "02fdc589-c588-4815-9387-f39a6e791ad6",
   "metadata": {},
   "outputs": [],
   "source": [
    "cuadrados.insert(10,11*11)\n",
    "print(cuadrados)"
   ]
  },
  {
   "cell_type": "markdown",
   "id": "c1774927-33cb-4308-9eaf-9b76b1706f27",
   "metadata": {},
   "source": [
    "Tenemos dos maneras de eliminar elementos de las listas en Python. Por un lado, el método *remove* permite eliminar elementos de la lista proporcionando como parámetro el propio elemento a eliminar: "
   ]
  },
  {
   "cell_type": "code",
   "execution_count": null,
   "id": "e5269838-c8c8-4e9c-a8cb-46c1bb95c04a",
   "metadata": {},
   "outputs": [],
   "source": [
    "cuadrados.remove(36)\n",
    "print(cuadrados)"
   ]
  },
  {
   "cell_type": "markdown",
   "id": "57645773-becc-42f5-be65-8971bf878ea1",
   "metadata": {},
   "source": [
    "Por otro lado la función *del* elimina un elemento de la lista que se encuentra en la posición que indiquemos:"
   ]
  },
  {
   "cell_type": "code",
   "execution_count": null,
   "id": "a6584db6-f14d-4857-8dd4-726b6d88edb6",
   "metadata": {},
   "outputs": [],
   "source": [
    "del cuadrados[2]\n",
    "print(cuadrados)"
   ]
  },
  {
   "cell_type": "markdown",
   "id": "9508b1c4-3768-43da-9ac8-36056abf5852",
   "metadata": {},
   "source": [
    "Para evaluar si un elemento se encuentra o nó dentro de una lista podemos aplicar el operador *în*:"
   ]
  },
  {
   "cell_type": "code",
   "execution_count": null,
   "id": "4c02bd61-c035-4554-a70e-6f3cba757e29",
   "metadata": {},
   "outputs": [],
   "source": [
    "if(15 in cuadrados):\n",
    "    print(\"ERROR! 15 está en la lista de cuadrados\")\n",
    "else:\n",
    "    print(\"15 no está en la lista de cuadrados\")"
   ]
  },
  {
   "cell_type": "markdown",
   "id": "cb5f384c-ee4e-4174-9c1a-cc714a236c94",
   "metadata": {},
   "source": [
    "Podemos obtener el tamaño de la lista de cuadrados usando la función *len*:"
   ]
  },
  {
   "cell_type": "code",
   "execution_count": null,
   "id": "9028f03a-199b-477f-917c-389cd59379bf",
   "metadata": {},
   "outputs": [],
   "source": [
    "print(len(cuadrados))"
   ]
  },
  {
   "cell_type": "markdown",
   "id": "7fb67e87-d571-43d5-bc4a-5896ce32e13b",
   "metadata": {},
   "source": [
    "Las listas se pueden concatenar fácilmente usando el operador '+':"
   ]
  },
  {
   "cell_type": "code",
   "execution_count": null,
   "id": "4d73c7aa-1ecd-4dc0-9408-264c2b7e9792",
   "metadata": {},
   "outputs": [],
   "source": [
    "cuadrafrutas = cuadrados + frutas\n",
    "print(cuadrafrutas)"
   ]
  },
  {
   "cell_type": "markdown",
   "id": "6efcbf6f-431a-4186-8617-bb2710b0348f",
   "metadata": {},
   "source": [
    "Es importante destacar que cuando asignamos una lista a una variable distinta no la estamos copiando, sino que estamos creando otra referencia al mismo objeto. Por ello, para crear una copia de la lista, tenemos la función copy."
   ]
  },
  {
   "cell_type": "code",
   "execution_count": null,
   "id": "26b8fa54-ac8e-4dba-b26c-7f3749f8eda7",
   "metadata": {},
   "outputs": [],
   "source": [
    "list1=[1,2,3]\n",
    "# Al asignar una lista a otra variable estamos creando otra referencia al mismo objeto:\n",
    "list2=list1\n",
    "# de hecho si imprimimos sus identificadores de objeto podremos ver que son el mismo:\n",
    "print(id(list1),id(list2))\n",
    "# Por ello al modificar la lista 1, la lista 2 se ve afectada, porque apuntan al mismo objeto:\n",
    "list1[2]=5\n",
    "print(list2)\n",
    "# Para crear otra lista DISTINTA con los mismo elementos debemos llamar a la función copy:\n",
    "list2=list1.copy()\n",
    "print(id(list1),id(list2))\n",
    "# Ahora modificamos la lista 1 y vemos cómo la lista 2 es totalmente independiente y no se vé afectada:\n",
    "list1[1]=0\n",
    "print(list2)\n"
   ]
  },
  {
   "cell_type": "markdown",
   "id": "d1a9825f-5d29-4f4a-b55c-1d0b2b3a5d0d",
   "metadata": {},
   "source": [
    "El conjunto de funciones predefinidas en python para las listas son: \n",
    "\n",
    "\n",
    "|   Method  |                                                                     Description |\n",
    "|:---------:|--------------------------------------------------------------------------------:|\n",
    "| append()  |                                       Adds an element at    the end of the list |\n",
    "| clear()   |                                       Removes all the    elements from the list |\n",
    "| copy()    |                                                   Returns a copy of the    list |\n",
    "| count()   |                      Returns the number of    elements with the specified value |\n",
    "| extend()  | Add the elements of a    list (or any iterable), to the end of the current list |\n",
    "| index()   |              Returns the index of    the first element with the specified value |\n",
    "| insert()  |                                    Adds an element at    the specified position |\n",
    "| pop()     |                                Removes the element at the    specified position |\n",
    "| remove()  |                                   Removes the     item with the specified value |\n",
    "| reverse() |                                               Reverses the order    of the list |\n",
    "| sort()    |                                                                  Sorts the list |"
   ]
  },
  {
   "cell_type": "markdown",
   "id": "a08fc5ab-8926-4851-a634-5e29db4529fd",
   "metadata": {},
   "source": [
    "## Tuplas\n",
    "\n",
    "Las tuplas son un tipo de colección de datos predefinida de python que almacena valores de manera ordenada, inmutable, y soporta valores duplicados. Esto significa que los valores de los elementos de una tupla no pueden ser modificados una vez se ha declarado la misma."
   ]
  },
  {
   "cell_type": "code",
   "execution_count": null,
   "id": "a74e2654-290e-4da4-ba00-b7ea8ff587d1",
   "metadata": {},
   "outputs": [],
   "source": [
    "mitupla = (\"apple\", \"banana\", \"cherry\", \"apple\", \"cherry\")\n",
    "print(mitupla)\n"
   ]
  },
  {
   "cell_type": "markdown",
   "id": "e43bd080-a6a9-458f-9f09-bd52b61cf87d",
   "metadata": {},
   "source": [
    "Al igual que las listas pueden indexarse con el operador '[]':"
   ]
  },
  {
   "cell_type": "code",
   "execution_count": null,
   "id": "e4c56d88-59f7-4e5d-ae0d-21027f99a62b",
   "metadata": {},
   "outputs": [],
   "source": [
    "print(mitupla[-2])\n",
    "print(mitupla[:3])"
   ]
  },
  {
   "cell_type": "markdown",
   "id": "854942db-9d56-436f-a6c0-53e823c9045d",
   "metadata": {},
   "source": [
    "Las tuplas son inmutables, por tanto, cualquier intento de modificación que realicemos sobre la tupla directamente generará un error:"
   ]
  },
  {
   "cell_type": "code",
   "execution_count": null,
   "id": "c2d6a364-532e-438e-93da-aed132733f76",
   "metadata": {},
   "outputs": [],
   "source": [
    "mitupla[2]=\"patatas fritas\""
   ]
  },
  {
   "cell_type": "markdown",
   "id": "952e2cd6-edea-4e3a-a261-7d86046be43b",
   "metadata": {},
   "source": [
    "La única manera de modificar una tupla es convertirla en una lista:"
   ]
  },
  {
   "cell_type": "code",
   "execution_count": null,
   "id": "3d6ba8b3-9c48-4977-85b8-d3a59748b3eb",
   "metadata": {},
   "outputs": [],
   "source": [
    "listaComoTupla=list(mitupla)\n",
    "listaComoTupla[2]=\"patatas fritas\"\n",
    "mitupla=tuple(listaComoTupla)\n",
    "print(mitupla)"
   ]
  },
  {
   "cell_type": "markdown",
   "id": "b1d753f6-b897-4c5d-9e4a-cabba1ed3586",
   "metadata": {},
   "source": [
    "En python es posible desempaquetar los elementos de una tupla o lista para asignarlos a variables:"
   ]
  },
  {
   "cell_type": "code",
   "execution_count": null,
   "id": "98859bd4-03cc-48a9-b251-132622d34816",
   "metadata": {},
   "outputs": [],
   "source": [
    "frutas= (\"apple\", \"banana\", \"cherry\")\n",
    "(verde,amarilla,roja)=frutas\n",
    "\n",
    "print(verde)\n",
    "print(amarilla)\n",
    "print(roja)"
   ]
  },
  {
   "cell_type": "markdown",
   "id": "7ef15696-0a5c-46eb-8cd2-89a55a18e612",
   "metadata": {},
   "source": [
    "Aunque las tuplas son inmutables, podemos declarar nuevas tuplas concatenando tuplas existentes:"
   ]
  },
  {
   "cell_type": "code",
   "execution_count": null,
   "id": "30dd6222-1464-4c7e-b867-97b45bf2cf13",
   "metadata": {},
   "outputs": [],
   "source": [
    "nuevatupla=frutas+mitupla\n",
    "print(nuevatupla)"
   ]
  },
  {
   "cell_type": "markdown",
   "id": "7f0aa4d9-39d9-402b-a8ba-a7bff9b0aae7",
   "metadata": {},
   "source": [
    "## Conjuntos\n",
    "\n",
    "Los conjuntos en python no tienen un orden definido para sus elementos y no almacenan elementos repetidos. Se declaran con '{ ... }'.\n",
    "\n"
   ]
  },
  {
   "cell_type": "code",
   "execution_count": null,
   "id": "eeb59567-251c-4956-8002-01cb8ef51ea1",
   "metadata": {},
   "outputs": [],
   "source": [
    "miconjunto={'manzana','pera','melocotón'}\n",
    "miconjunto.add('manzana')\n",
    "print(miconjunto)"
   ]
  },
  {
   "cell_type": "markdown",
   "id": "66c0d5a1-f932-4b40-871f-75d816d56222",
   "metadata": {},
   "source": [
    "## Diccionarios\n",
    "\n",
    "Un Diccionario es una estructura de datos de Python  que nos permite almacenar cualquier tipo de valor como enteros, cadenas, listas e incluso funciones identificando cada elemento por una clave (Key).\n",
    "\n",
    "Los diccionarios en python se declaran como conjutos de pares clave : valor separadas por ':'"
   ]
  },
  {
   "cell_type": "code",
   "execution_count": 12,
   "id": "8bfd3b1b-9cb3-40cf-bfef-0627f2585c42",
   "metadata": {},
   "outputs": [],
   "source": [
    "diccionario = {'nombre' : 'JAParejo', 'edad' : 42, 'cursos': ['Python','Java','JavaScript'] }"
   ]
  },
  {
   "cell_type": "markdown",
   "id": "da7aec9a-22c9-4d23-abb6-8129de626652",
   "metadata": {},
   "source": [
    "Podemos acceder al elemento de un Diccionario mediante la clave de este elemento, como veremos a continuación:"
   ]
  },
  {
   "cell_type": "code",
   "execution_count": 14,
   "id": "a59ef184-59ef-4ddb-a510-ab77617c971e",
   "metadata": {},
   "outputs": [],
   "source": [
    "print(diccionario['nombre']) \n",
    "print(diccionario['edad'])\n",
    "print(diccionario['cursos']) "
   ]
  },
  {
   "cell_type": "markdown",
   "id": "ccd07f41-ec20-489a-85c8-acdf582c2ded",
   "metadata": {},
   "source": [
    "Dado es posible insertar listas dentro de un diccionario, para acceder a cada uno de los elementos usaremos el operador de indexación, lo que nos deja la siguiente sintaxis para acceder a los cursos:"
   ]
  },
  {
   "cell_type": "code",
   "execution_count": 15,
   "id": "ffe310b9-576f-4ca0-bf70-a35b55a7af3c",
   "metadata": {},
   "outputs": [],
   "source": [
    "print(diccionario['cursos'][0]) #Python\n",
    "print(diccionario['cursos'][1]) #Java\n",
    "print(diccionario['cursos'][2]) #JavaScript"
   ]
  },
  {
   "cell_type": "markdown",
   "id": "0003ef79-0cfb-4c5b-9888-d87cb24d73dc",
   "metadata": {},
   "source": [
    "Es posible recorrer un diccionario usando un bucle for, que iterará sobre la claves del mismo:"
   ]
  },
  {
   "cell_type": "code",
   "execution_count": 17,
   "id": "a475e8c3-7184-4e2d-a428-d9c8f256c52f",
   "metadata": {},
   "outputs": [],
   "source": [
    "for key in diccionario:\n",
    "  print(key, \":\", diccionario[key])"
   ]
  },
  {
   "cell_type": "markdown",
   "id": "b6aa380e-40ea-4f33-9128-1033a37f58a8",
   "metadata": {},
   "source": [
    "Los diccionarios tambien soportan el uso de la operación *get* para obtener elementos en base a su clave:"
   ]
  },
  {
   "cell_type": "code",
   "execution_count": 19,
   "id": "19fb4bae-2c69-4c41-ae89-8e9e3790bac4",
   "metadata": {},
   "outputs": [],
   "source": [
    "diccionario.get(\"cursos\")"
   ]
  },
  {
   "cell_type": "markdown",
   "id": "8f8f93e4-b166-4864-8f2d-d0cd67bad75c",
   "metadata": {},
   "source": [
    "Así mismo, los diccionarios permite acceder sus claves y valores independientemente como listas mediante las funciones *keys* y *values\""
   ]
  },
  {
   "cell_type": "code",
   "execution_count": 22,
   "id": "602ad4fb-1559-4b47-97f0-89103016ee1d",
   "metadata": {},
   "outputs": [],
   "source": [
    "print(diccionario.keys())\n",
    "\n",
    "print(diccionario.values())"
   ]
  },
  {
   "cell_type": "markdown",
   "id": "828c4c93-bdaa-4bb8-9126-c967485e7571",
   "metadata": {},
   "source": [
    "Para añadir elementos a un diccionario podemos usar el operador de indexación directamente o la operacion update:"
   ]
  },
  {
   "cell_type": "code",
   "execution_count": 37,
   "id": "b6fa4b23-5e13-4c13-82d1-98fbcc4c06b3",
   "metadata": {},
   "outputs": [],
   "source": [
    "diccionario[\"peli_favorita\"]=\"La vida es bella\"   # aquí asignamos el valor directamente\n",
    "diccionario.update({\"libro_favorito\":\"El señor de los anillos\"}) # aquí pasamos otro diccionario como parámetro, en este caso con un único par clave:valor\n",
    "print(diccionario)"
   ]
  },
  {
   "cell_type": "markdown",
   "id": "16e76145-7bb0-448f-a57f-1be2ad67d1e6",
   "metadata": {},
   "source": [
    "Podemos eliminar elementos del diccionario de diversas maneras: \n",
    "- con la función *dict.pop(key), que elimina la entrada y devuelve el como resultado el valor asociado a la clave proporcionada como parámetro.\n",
    "- con la función *del dict[key]*, que elimina directamente la entrada sin devolver nada.\n",
    "- con la función *dict.clear()*, que deja el diccionario totalmente vacío.\n",
    "- con la función *del(dict)*, que directamente destruye el diccionario, y este deja de existir."
   ]
  },
  {
   "cell_type": "code",
   "execution_count": 38,
   "id": "2dcb3720-c467-4e2d-80cf-9da41a198778",
   "metadata": {},
   "outputs": [],
   "source": [
    "print(diccionario.pop(\"peli_favorita\"))\n",
    "print(diccionario)\n",
    "print(\"------------------------------\")\n",
    "del diccionario[\"libro_favorito\"]\n",
    "print(diccionario)\n",
    "print(\"------------------------------\")\n",
    "diccionario.clear()\n",
    "print(diccionario)\n",
    "print(\"------------------------------\")\n",
    "del diccionario\n",
    "print(diccionario)"
   ]
  },
  {
   "cell_type": "markdown",
   "id": "86a0d6d4-16f2-401a-8478-0840784110d6",
   "metadata": {},
   "source": [
    "Como siempre, tenemos disponible una función para crear un diccionario vacío (*dict*), y una funcion para copiar un diccionario existente (*dict.copy*)"
   ]
  },
  {
   "cell_type": "markdown",
   "id": "fa27fb12-6218-4b65-8e86-574dee36702f",
   "metadata": {},
   "source": [
    "# Ejercicios:\n",
    "\n",
    "## Ejercicio 1: Encontrar la palabra más larga de un texto:\n",
    "\n"
   ]
  },
  {
   "cell_type": "code",
   "execution_count": 5,
   "id": "bf6ebf83-8afd-4c66-bb9d-5e2629c7bfc4",
   "metadata": {},
   "outputs": [],
   "source": [
    "texto=input()\n",
    "palabras=texto.split(' ')\n",
    "print(palabras)\n",
    "longitudmaxima=0\n",
    "palabraMasLarga=\"\"\n",
    "for palabra in palabras:\n",
    "    if(len(palabra) > longitudmaxima):\n",
    "        longitudmaxima=len(palabra)\n",
    "        palabraMasLarga=palabra\n",
    "print(f\"La palabra más larga ({longitudmaxima} caracteres) es {palabraMasLarga}\")\n",
    "    "
   ]
  },
  {
   "cell_type": "markdown",
   "id": "84bd7762-afab-4054-8d5d-0749d4993d42",
   "metadata": {},
   "source": [
    "## Ejercicio 2: Encontrar el número de palabras distintas de un texto"
   ]
  },
  {
   "cell_type": "code",
   "execution_count": 8,
   "id": "82e970a4-a96d-418e-983b-5d84c15d586d",
   "metadata": {},
   "outputs": [],
   "source": [
    "texto=input()\n",
    "palabras=texto.split(' ')\n",
    "print(palabras)\n",
    "conjuntopalabras ={*palabras}\n",
    "len(conjuntopalabras)"
   ]
  },
  {
   "cell_type": "markdown",
   "id": "9c76b2de-2ff2-4b1a-aeeb-f50c7905bd26",
   "metadata": {},
   "source": [
    "## Ejercicio 3: Encontrar las n palabras más comunes de un texto:"
   ]
  },
  {
   "cell_type": "code",
   "execution_count": 3,
   "id": "fb10bf43-ba85-4b78-88d9-9aa121b47354",
   "metadata": {},
   "outputs": [
    {
     "name": "stdin",
     "output_type": "stream",
     "text": [
      " esto es es es esto palabra prueba\n",
      " 2\n"
     ]
    },
    {
     "name": "stdout",
     "output_type": "stream",
     "text": [
      "['esto', 'es', 'es', 'es', 'esto', 'palabra', 'prueba']\n",
      "('es', 3)\n",
      "('esto', 2)\n"
     ]
    }
   ],
   "source": [
    "texto=input()\n",
    "numeroPalabras=int(input())\n",
    "palabras=texto.split(' ')\n",
    "print(palabras)\n",
    "palabrasDistintas={*palabras}\n",
    "conteoPalabras=dict()\n",
    "\n",
    "for palabra in palabras:\n",
    "    if(palabra in conteoPalabras.keys()):\n",
    "        conteoPalabras[palabra]+=1 \n",
    "    else:\n",
    "        conteoPalabras[palabra]=1\n",
    "\n",
    "import operator\n",
    "conteoPalabrasOrdenado=sorted(conteoPalabras.items(),key=operator.itemgetter(1),reverse=True)\n",
    "for i in range(0,numeroPalabras):\n",
    "    print(conteoPalabrasOrdenado[i])\n"
   ]
  }
 ],
 "metadata": {
  "kernelspec": {
   "display_name": "Python 3 (ipykernel)",
   "language": "python",
   "name": "python3"
  },
  "language_info": {
   "codemirror_mode": {
    "name": "ipython",
    "version": 3
   },
   "file_extension": ".py",
   "mimetype": "text/x-python",
   "name": "python",
   "nbconvert_exporter": "python",
   "pygments_lexer": "ipython3",
   "version": "3.9.7"
  }
 },
 "nbformat": 4,
 "nbformat_minor": 5
}
