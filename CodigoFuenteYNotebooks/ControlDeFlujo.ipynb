{
 "cells": [
  {
   "cell_type": "markdown",
   "id": "f8601c55-9b5b-4676-8435-ea6b03be652e",
   "metadata": {},
   "source": [
    "# Control de flujo del programa"
   ]
  },
  {
   "cell_type": "markdown",
   "id": "2c260eb9-44d8-4281-90b5-8d0d3f1cc67e",
   "metadata": {},
   "source": [
    "Python es un lenguaje moderno que incorpora multitud de instrucciones de control de flujo del programa\n",
    "\n",
    "\n",
    "## IF .. ELSE\n",
    "\n",
    "En python, el ámbito al que afectan las instucciones de tipo if.. else y en general todos los ámbitos, se definen en base a la indentación. Ejecute las dos celdas siguiente y observe las diferencias en su resultado."
   ]
  },
  {
   "cell_type": "code",
   "execution_count": null,
   "id": "2460f292-e72d-4da9-878a-37a392181d0f",
   "metadata": {},
   "outputs": [],
   "source": [
    "x=int(input(\"Introduzca un número entero entre 1 y 10:\"))\n",
    "y=5\n",
    "if (x<5):\n",
    "    print(\"El número proporcionado es menor que 5\")\n",
    "    print(\"Gracias por participar\")"
   ]
  },
  {
   "cell_type": "code",
   "execution_count": null,
   "id": "728da5a7-aa4c-4cbb-bcaf-d5129a46564f",
   "metadata": {},
   "outputs": [],
   "source": [
    "x=int(input(\"Introduzca un número entero entre 1 y 10:\"))\n",
    "y=5\n",
    "if (x<5):\n",
    "    print(\"El número proporcionado es menor que 5\")\n",
    "print(\"Gracias por participar\")"
   ]
  },
  {
   "cell_type": "markdown",
   "id": "41331d83-ac83-4c63-baaf-5773691420e0",
   "metadata": {},
   "source": [
    "La instrucción *if* soporta el uso de la cláusula *elif* para especificar condiciones alternativas. Por ejemplo:"
   ]
  },
  {
   "cell_type": "code",
   "execution_count": null,
   "id": "73d6c3e1-8f9b-429b-8b2c-19fa763d41ee",
   "metadata": {},
   "outputs": [],
   "source": [
    "x=int(input(\"Introduzca un número entero entre 1 y 10:\"))\n",
    "y=5\n",
    "if (x<5):\n",
    "    print(\"x es menor que 5\")\n",
    "elif (x>=10):\n",
    "    print(\"El número porpocionado es demasiado grande\")\n",
    "print(\"Gracias por participar\")"
   ]
  },
  {
   "cell_type": "markdown",
   "id": "c33fe77d-ec41-4078-9630-8b3ddbb86815",
   "metadata": {},
   "source": [
    "El caso por defecto en caso de que ninguna de las condiciones se cumpla se especifica con la cláusula *else*:"
   ]
  },
  {
   "cell_type": "code",
   "execution_count": null,
   "id": "edbbf8af-53d7-45f0-b7ff-b3a18d32d81e",
   "metadata": {},
   "outputs": [],
   "source": [
    "x=int(input(\"Introduzca un número entero entre 1 y 10:\"))\n",
    "y=5\n",
    "if (x<1):\n",
    "    print(\"El número proporcionado es demasiado pequeño\")\n",
    "elif (x<5):\n",
    "    print(\"El número proporcionado es menor que 5\")\n",
    "elif (x>=10):\n",
    "    print(\"El número porpocionado es demasiado grande\")\n",
    "else:\n",
    "    print(\"El número proporcionado es mayor o igual que 5\")\n",
    "print(\"Gracias por participar\")"
   ]
  },
  {
   "cell_type": "markdown",
   "id": "6e3277ad-f880-470a-897b-03e520d235ff",
   "metadata": {},
   "source": [
    "Una manera muy pythonica de usar el if es la version corta a una línea:"
   ]
  },
  {
   "cell_type": "code",
   "execution_count": null,
   "id": "14951354-ad8a-418f-9ddc-13b5c91c4ab3",
   "metadata": {},
   "outputs": [],
   "source": [
    "x=int(input(\"Introduzca un número entero entre 1 y 10:\"))\n",
    "if (x<1): print(\"El número proporcionado es demasiado pequeño\") \n",
    "print(\"Gracias por participar\")"
   ]
  },
  {
   "cell_type": "markdown",
   "id": "908da57c-0285-4e2d-a2ed-7f26e64f828e",
   "metadata": {},
   "source": [
    "Por su puesto, podemos anidar sentencias de tipo if..else:"
   ]
  },
  {
   "cell_type": "code",
   "execution_count": null,
   "id": "95bc0e17-f3fa-4f6a-bf1f-61e830c70670",
   "metadata": {},
   "outputs": [],
   "source": [
    "num = float(input(\"Proporcione un número: \"))\n",
    "if num >= 0:\n",
    "    if num == 0:\n",
    "        print(\"Cero\")\n",
    "    else:\n",
    "        print(\"Número positivo\")\n",
    "else:\n",
    "    print(\"Número negativo\")"
   ]
  },
  {
   "cell_type": "markdown",
   "id": "0aa81cff-9a8e-472a-afd2-d01f2cc802d5",
   "metadata": {},
   "source": [
    "## Bucles\n",
    "\n",
    "Python soporta el uso de varios tipos de bucles de ejecución.\n",
    "\n",
    "### While\n",
    "\n",
    "Por ejemplo la instrucción while iterará mientras se cumpla una condición determinada:"
   ]
  },
  {
   "cell_type": "code",
   "execution_count": null,
   "id": "f5ab2bfc-631a-4ad1-9d63-da0cb6823af9",
   "metadata": {},
   "outputs": [],
   "source": [
    "i = 1\n",
    "while i < 6:\n",
    "  print(i)\n",
    "  i += 1"
   ]
  },
  {
   "cell_type": "markdown",
   "id": "b741b4fe-c5d8-4bb6-a91f-63b4c1dcebb9",
   "metadata": {},
   "source": [
    "Podemos combinar cualquier tipo de bucle con la instrucción *break* que fuerza la salida de la ejecución del bucle:"
   ]
  },
  {
   "cell_type": "code",
   "execution_count": null,
   "id": "b7a3a0f7-eeac-4b0a-b2db-e9a9802d1684",
   "metadata": {},
   "outputs": [],
   "source": [
    "i = 1\n",
    "while i < 6:\n",
    "  print(i)\n",
    "  if i == 3:\n",
    "    break\n",
    "  i += 1 "
   ]
  },
  {
   "cell_type": "markdown",
   "id": "9a2c489b-be9d-44d2-8b21-25463540a329",
   "metadata": {},
   "source": [
    "También podemos usar la instrucción *continue*, que permite para la ejecución de la iteración actual del bucle, pero continúa con la siguiente:"
   ]
  },
  {
   "cell_type": "code",
   "execution_count": null,
   "id": "04570a40-cc96-4f2b-b3c5-7e444bfe9fb9",
   "metadata": {},
   "outputs": [],
   "source": [
    "i = 0\n",
    "while i < 6:\n",
    "  i += 1\n",
    "  if i == 3:\n",
    "    continue\n",
    "  print(i)"
   ]
  },
  {
   "cell_type": "markdown",
   "id": "6597972d-9b96-4ce9-879e-d71c76f1a0c4",
   "metadata": {},
   "source": [
    "### For\n",
    "\n",
    "La instrucción for en python permite iterar sobre colecciones, por ejemplo:"
   ]
  },
  {
   "cell_type": "code",
   "execution_count": null,
   "id": "ab9b9ffa-9f49-4795-aee2-4f884d5f7e1b",
   "metadata": {},
   "outputs": [],
   "source": [
    "for x in \"banana\":\n",
    "  print(x)"
   ]
  },
  {
   "cell_type": "code",
   "execution_count": null,
   "id": "04e2aabc-57d8-48b0-a55c-b93fe9f8760a",
   "metadata": {},
   "outputs": [],
   "source": [
    "fruits = [\"apple\", \"banana\", \"cherry\"]\n",
    "for x in fruits:\n",
    "  print(x)\n",
    "  if x == \"banana\":\n",
    "    break"
   ]
  },
  {
   "cell_type": "code",
   "execution_count": null,
   "id": "a4d44045-71ba-4c6f-890b-cecbc70c21aa",
   "metadata": {},
   "outputs": [],
   "source": [
    "fruits = [\"apple\", \"banana\", \"cherry\"]\n",
    "for x in fruits:\n",
    "  if x == \"banana\":\n",
    "    continue\n",
    "  print(x)"
   ]
  },
  {
   "cell_type": "markdown",
   "id": "bb422688-14c3-412b-9f53-07e97b83db81",
   "metadata": {},
   "source": [
    "Cuando queremos que se itere *n* veces podemos usar la función *range(n)* que genera una secuencia de números entre 0 y *n-1*"
   ]
  },
  {
   "cell_type": "code",
   "execution_count": null,
   "id": "7cb0f309-fec0-42bc-b8ed-1a8f6f2a0df9",
   "metadata": {},
   "outputs": [],
   "source": [
    "for x in range(6):\n",
    "    print(x)\n"
   ]
  },
  {
   "cell_type": "markdown",
   "id": "569816b7-c762-475f-8055-be572c52bec8",
   "metadata": {},
   "source": [
    "La función *range* usa como valor inicial por defecto 0, pero también podemos especificarlo nosotros:"
   ]
  },
  {
   "cell_type": "code",
   "execution_count": 37,
   "id": "9f51b1a8-e8db-453f-bfa1-a58905e1f4ff",
   "metadata": {},
   "outputs": [
    {
     "name": "stdout",
     "output_type": "stream",
     "text": [
      "2\n",
      "3\n",
      "4\n",
      "5\n"
     ]
    }
   ],
   "source": [
    "for x in range(2,6):\n",
    "    print(x)"
   ]
  },
  {
   "cell_type": "markdown",
   "id": "06312474-574b-4b48-b13b-1f66a8cda2b2",
   "metadata": {},
   "source": [
    "De hecho, la función *range* tiene un tercer parámetro opcional, que permite especificar el incremento a aplica en cada iteración:"
   ]
  },
  {
   "cell_type": "code",
   "execution_count": 38,
   "id": "6da1ebbf-9d46-42f4-944a-6a0358d4690c",
   "metadata": {},
   "outputs": [
    {
     "name": "stdout",
     "output_type": "stream",
     "text": [
      "2\n",
      "5\n"
     ]
    }
   ],
   "source": [
    "for x in range(2,6,3):\n",
    "    print(x)"
   ]
  },
  {
   "cell_type": "markdown",
   "id": "73deb38d-11d5-45db-b804-9d7cacdf89f9",
   "metadata": {},
   "source": [
    "Por supuesto, podemos anidar bucles for para crear algoritmos complejos y creativos:"
   ]
  },
  {
   "cell_type": "code",
   "execution_count": 40,
   "id": "4eee4255-5e87-482a-b6ce-af4664806a72",
   "metadata": {},
   "outputs": [
    {
     "name": "stdout",
     "output_type": "stream",
     "text": [
      "Trueno elástico\n",
      "Trueno diodenarr\n",
      "Trueno mutante\n",
      "Trueno biónico\n",
      "Trueno espacial\n",
      "Trueno de la pradera\n",
      "Trueno radiactivo\n",
      "Trueno carmesí\n",
      "Trueno amoroso\n",
      "Trueno letal\n",
      "Trueno maravilla\n",
      "Trueno mágico\n",
      "Pecador elástico\n",
      "Pecador diodenarr\n",
      "Pecador mutante\n",
      "Pecador biónico\n",
      "Pecador espacial\n",
      "Pecador de la pradera\n",
      "Pecador radiactivo\n",
      "Pecador carmesí\n",
      "Pecador amoroso\n",
      "Pecador letal\n",
      "Pecador maravilla\n",
      "Pecador mágico\n",
      "Maestro elástico\n",
      "Maestro diodenarr\n",
      "Maestro mutante\n",
      "Maestro biónico\n",
      "Maestro espacial\n",
      "Maestro de la pradera\n",
      "Maestro radiactivo\n",
      "Maestro carmesí\n",
      "Maestro amoroso\n",
      "Maestro letal\n",
      "Maestro maravilla\n",
      "Maestro mágico\n",
      "El milagro elástico\n",
      "El milagro diodenarr\n",
      "El milagro mutante\n",
      "El milagro biónico\n",
      "El milagro espacial\n",
      "El milagro de la pradera\n",
      "El milagro radiactivo\n",
      "El milagro carmesí\n",
      "El milagro amoroso\n",
      "El milagro letal\n",
      "El milagro maravilla\n",
      "El milagro mágico\n",
      "Halcón elástico\n",
      "Halcón diodenarr\n",
      "Halcón mutante\n",
      "Halcón biónico\n",
      "Halcón espacial\n",
      "Halcón de la pradera\n",
      "Halcón radiactivo\n",
      "Halcón carmesí\n",
      "Halcón amoroso\n",
      "Halcón letal\n",
      "Halcón maravilla\n",
      "Halcón mágico\n",
      "Capitán elástico\n",
      "Capitán diodenarr\n",
      "Capitán mutante\n",
      "Capitán biónico\n",
      "Capitán espacial\n",
      "Capitán de la pradera\n",
      "Capitán radiactivo\n",
      "Capitán carmesí\n",
      "Capitán amoroso\n",
      "Capitán letal\n",
      "Capitán maravilla\n",
      "Capitán mágico\n",
      "Chico elástico\n",
      "Chico diodenarr\n",
      "Chico mutante\n",
      "Chico biónico\n",
      "Chico espacial\n",
      "Chico de la pradera\n",
      "Chico radiactivo\n",
      "Chico carmesí\n",
      "Chico amoroso\n",
      "Chico letal\n",
      "Chico maravilla\n",
      "Chico mágico\n",
      "Tornado elástico\n",
      "Tornado diodenarr\n",
      "Tornado mutante\n",
      "Tornado biónico\n",
      "Tornado espacial\n",
      "Tornado de la pradera\n",
      "Tornado radiactivo\n",
      "Tornado carmesí\n",
      "Tornado amoroso\n",
      "Tornado letal\n",
      "Tornado maravilla\n",
      "Tornado mágico\n",
      "Fistro elástico\n",
      "Fistro diodenarr\n",
      "Fistro mutante\n",
      "Fistro biónico\n",
      "Fistro espacial\n",
      "Fistro de la pradera\n",
      "Fistro radiactivo\n",
      "Fistro carmesí\n",
      "Fistro amoroso\n",
      "Fistro letal\n",
      "Fistro maravilla\n",
      "Fistro mágico\n",
      "Vigilante elástico\n",
      "Vigilante diodenarr\n",
      "Vigilante mutante\n",
      "Vigilante biónico\n",
      "Vigilante espacial\n",
      "Vigilante de la pradera\n",
      "Vigilante radiactivo\n",
      "Vigilante carmesí\n",
      "Vigilante amoroso\n",
      "Vigilante letal\n",
      "Vigilante maravilla\n",
      "Vigilante mágico\n",
      "Aguijón elástico\n",
      "Aguijón diodenarr\n",
      "Aguijón mutante\n",
      "Aguijón biónico\n",
      "Aguijón espacial\n",
      "Aguijón de la pradera\n",
      "Aguijón radiactivo\n",
      "Aguijón carmesí\n",
      "Aguijón amoroso\n",
      "Aguijón letal\n",
      "Aguijón maravilla\n",
      "Aguijón mágico\n"
     ]
    }
   ],
   "source": [
    "sustantivos = { \"El milagro\", \"Trueno\", \"Vigilante\", \"Capitán\", \"Chico\", \"Aguijón\", \"Maestro\", \"Halcón\",\"Tornado\", \"Pecador\", \"Fistro\" }\n",
    "adjetivos = { \"elástico\", \"espacial\", \"mágico\", \"biónico\", \"radiactivo\", \"maravilla\", \"letal\", \"mutante\", \"amoroso\", \"carmesí\", \"diodenarr\", \"de la pradera\" }\n",
    "\n",
    "for nombre in sustantivos:\n",
    "    for apellido in adjetivos:\n",
    "        superheroe = nombre + \" \" + apellido\n",
    "        print(superheroe)"
   ]
  },
  {
   "cell_type": "markdown",
   "id": "8d844053-204a-4348-8668-9f747a54fc53",
   "metadata": {},
   "source": [
    "# Ejercicios:\n",
    "\n",
    "## Ejercicio 1: Números primos\n",
    "Cree un algoritmo que tome como entrada un número entero y compruebe si es primo o no (imprimiendo un mensaje indicándolo)."
   ]
  },
  {
   "cell_type": "code",
   "execution_count": 52,
   "id": "d78cd69b-76a1-4547-8f92-14aa24bd825d",
   "metadata": {},
   "outputs": [
    {
     "name": "stdin",
     "output_type": "stream",
     "text": [
      "Indique un número entero positivo 32781\n"
     ]
    },
    {
     "name": "stdout",
     "output_type": "stream",
     "text": [
      "El número 32781 no es primo, es divisible por 3\n"
     ]
    }
   ],
   "source": []
  }
 ],
 "metadata": {
  "kernelspec": {
   "display_name": "Python 3 (ipykernel)",
   "language": "python",
   "name": "python3"
  },
  "language_info": {
   "codemirror_mode": {
    "name": "ipython",
    "version": 3
   },
   "file_extension": ".py",
   "mimetype": "text/x-python",
   "name": "python",
   "nbconvert_exporter": "python",
   "pygments_lexer": "ipython3",
   "version": "3.9.7"
  }
 },
 "nbformat": 4,
 "nbformat_minor": 5
}
