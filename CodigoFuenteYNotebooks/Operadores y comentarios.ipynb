{
 "cells": [
  {
   "cell_type": "markdown",
   "id": "c2c48e11-4a24-412a-975f-f230095cd378",
   "metadata": {},
   "source": [
    "# Introducción a Python: Operadores y comentarios\n",
    "\n",
    "## Comentarios en Pyhton"
   ]
  },
  {
   "cell_type": "code",
   "execution_count": 3,
   "id": "7543e5ff-a1bb-42b2-9b56-326f3ba0557c",
   "metadata": {},
   "outputs": [
    {
     "name": "stdout",
     "output_type": "stream",
     "text": [
      "Los comentarios son buentos\n"
     ]
    }
   ],
   "source": [
    "# Esto es un comentario de línea en python, no altera el comportamiento del programa\n",
    "# pero nos permite tranmitir información al lector del código\n",
    "print(\"Los comentarios son buentos\") # podemos ponerlos tamibén al final de las líneas de código"
   ]
  },
  {
   "cell_type": "markdown",
   "id": "fc083c0c-fe48-45b3-ad33-4c7cc838480c",
   "metadata": {},
   "source": [
    "## Operadores en Python\n",
    "\n",
    "### Operadores aritméticos\n",
    "\n",
    "Además de los operadores clásicos (suma, resta multiplicación, división), python incorpora algunos operadores aritméticos menos comunes:\n",
    "\n",
    "*Operador de exponente (\\*\\*)*"
   ]
  },
  {
   "cell_type": "code",
   "execution_count": 1,
   "id": "1db6569b-fe83-4134-b447-1d89c02ef783",
   "metadata": {},
   "outputs": [
    {
     "data": {
      "text/plain": [
       "9"
      ]
     },
     "execution_count": 1,
     "metadata": {},
     "output_type": "execute_result"
    }
   ],
   "source": [
    "3 ** 2"
   ]
  },
  {
   "cell_type": "markdown",
   "id": "e49dabc9-a12b-405c-b738-4dae6bbefc09",
   "metadata": {},
   "source": [
    "*Operador de módulo (%)*"
   ]
  },
  {
   "cell_type": "code",
   "execution_count": 2,
   "id": "3b06aa2a-4305-4d22-bc09-1a5282307250",
   "metadata": {},
   "outputs": [
    {
     "data": {
      "text/plain": [
       "1"
      ]
     },
     "execution_count": 2,
     "metadata": {},
     "output_type": "execute_result"
    }
   ],
   "source": [
    "5 % 2"
   ]
  },
  {
   "cell_type": "markdown",
   "id": "018f5f8d-c09c-4d65-9297-e0eb9156f0ca",
   "metadata": {},
   "source": [
    "*Operador de suelo de la división (//)*"
   ]
  },
  {
   "cell_type": "code",
   "execution_count": 4,
   "id": "fcb4724a-2a1e-44ec-b69e-c2a0b82150d7",
   "metadata": {},
   "outputs": [
    {
     "data": {
      "text/plain": [
       "2"
      ]
     },
     "execution_count": 4,
     "metadata": {},
     "output_type": "execute_result"
    }
   ],
   "source": [
    "5 // 2"
   ]
  },
  {
   "cell_type": "markdown",
   "id": "9b1470d6-29dd-413f-8f49-befbe260f3e5",
   "metadata": {},
   "source": [
    "### Operadores de asignación\n",
    "\n",
    "Además del operador de asignación clásico, python soporta los siguientes operadore de asignación avanzados:"
   ]
  },
  {
   "cell_type": "code",
   "execution_count": 8,
   "id": "2168c80f-29ae-44e5-a756-9e6de4a6310e",
   "metadata": {},
   "outputs": [
    {
     "name": "stdout",
     "output_type": "stream",
     "text": [
      "7\n"
     ]
    }
   ],
   "source": [
    "x=5\n",
    "x+=2  # Equivalente a x=x+2\n",
    "print(x)"
   ]
  },
  {
   "cell_type": "code",
   "execution_count": 9,
   "id": "58d611fb-a1c5-41ba-acf8-85843cdd3b18",
   "metadata": {},
   "outputs": [
    {
     "name": "stdout",
     "output_type": "stream",
     "text": [
      "3\n"
     ]
    }
   ],
   "source": [
    "x=5\n",
    "x-=2 # Equivalente a x=x-2\n",
    "print(x)"
   ]
  },
  {
   "cell_type": "code",
   "execution_count": 13,
   "id": "cddf3955-191d-49df-a87d-94fedf04c4b9",
   "metadata": {},
   "outputs": [
    {
     "name": "stdout",
     "output_type": "stream",
     "text": [
      "15\n"
     ]
    }
   ],
   "source": [
    "x=5\n",
    "x*=3 # Equivalente a x=x*3\n",
    "print(x)"
   ]
  },
  {
   "cell_type": "code",
   "execution_count": 14,
   "id": "4a186bd0-3b9f-4f47-be75-ffdb65afd74c",
   "metadata": {},
   "outputs": [
    {
     "name": "stdout",
     "output_type": "stream",
     "text": [
      "1.6666666666666667\n"
     ]
    }
   ],
   "source": [
    "x=5\n",
    "x/=3 # Equivalente a x=x/3\n",
    "print(x)"
   ]
  },
  {
   "cell_type": "markdown",
   "id": "b0de0e7f-2762-4418-9ffe-c50a6081696d",
   "metadata": {},
   "source": [
    "### Operadores de gestión de la identidad\n",
    "\n",
    "Los operadores de gestión de la identidad de los objetos se usan para evaluar si dos variables apuntan al mismo espacio de memoria(objeto). Concetamente en python disponemos del operador *is* y el operador *isnot*. Ejemplos:"
   ]
  },
  {
   "cell_type": "code",
   "execution_count": 18,
   "id": "2f65f02a-872d-4e79-a1ba-664d178b3d7c",
   "metadata": {},
   "outputs": [
    {
     "name": "stdout",
     "output_type": "stream",
     "text": [
      "True\n",
      "1890644486480 1890644486480\n"
     ]
    }
   ],
   "source": [
    "# Ejemplo de dos variables que apuntan al mismo objeto:\n",
    "x=2\n",
    "y=x\n",
    "print(x is y)\n",
    "print(id(x),id(y))"
   ]
  },
  {
   "cell_type": "code",
   "execution_count": 22,
   "id": "6cea1ade-a817-41aa-ad5e-41d85dbc06d9",
   "metadata": {},
   "outputs": [
    {
     "name": "stdout",
     "output_type": "stream",
     "text": [
      "False\n",
      "1890644486480 1890644486512\n"
     ]
    }
   ],
   "source": [
    "# Ejemplo de dos variables que no apuntan al mismo objeto:\n",
    "x=2\n",
    "y=3\n",
    "print(x is y)\n",
    "print(id(x),id(y))"
   ]
  },
  {
   "cell_type": "markdown",
   "id": "c7535798-5b79-47ec-8de6-ef1d356568ff",
   "metadata": {},
   "source": [
    "### Operadores de gestión de la membresía en colecciones de objetos\n",
    "\n",
    "En python disponemos de operadores para evaluar si un objeto pertence a una colección o no con el operador *in* (o *not in*). Ejemplos:"
   ]
  },
  {
   "cell_type": "code",
   "execution_count": 28,
   "id": "61ae692c-ae7b-483b-ab18-29e986f7ec67",
   "metadata": {},
   "outputs": [
    {
     "name": "stdout",
     "output_type": "stream",
     "text": [
      "[2, 3, 5]\n",
      "True\n",
      "False\n",
      "False\n"
     ]
    }
   ],
   "source": [
    "coleccion =[2,3,5]\n",
    "print(coleccion)\n",
    "print(5 in coleccion)\n",
    "print(4 in coleccion)\n",
    "print(5 not in coleccion)"
   ]
  },
  {
   "cell_type": "markdown",
   "id": "3a42a58e-2ffd-4701-8785-bebd3869c62c",
   "metadata": {},
   "source": [
    "# Ejercicios:\n",
    "\n",
    "## Ejercicio 1: \n",
    "¿Como podría usar los operadores de python para comprobar si un número es par o no?\n",
    "Use el código que es proporciona a continuación para obtener un número entero y mostrar cierto o falso si el número es par o no."
   ]
  },
  {
   "cell_type": "code",
   "execution_count": 35,
   "id": "1d3e93e3-2f48-4338-9e07-9c0464c565df",
   "metadata": {},
   "outputs": [
    {
     "name": "stdin",
     "output_type": "stream",
     "text": [
      "Escriba un número: 3\n"
     ]
    },
    {
     "name": "stdout",
     "output_type": "stream",
     "text": [
      "¿Es el numero proporcionado par?\n",
      "False\n"
     ]
    }
   ],
   "source": [
    "# El código que viene a continuación permite obtener un número por parte del usuario:\n",
    "x = input(\"Escriba un número:\")\n",
    "numero=int(x)\n",
    "print(\"¿Es el numero proporcionado par?\")\n",
    "par= False # MODIFIQUE ESTA LÍNEA PARA COMPROBAR SI EL NÚMERO ES PAR O NO:\n",
    "print(par)\n",
    "      "
   ]
  }
 ],
 "metadata": {
  "kernelspec": {
   "display_name": "Python 3 (ipykernel)",
   "language": "python",
   "name": "python3"
  },
  "language_info": {
   "codemirror_mode": {
    "name": "ipython",
    "version": 3
   },
   "file_extension": ".py",
   "mimetype": "text/x-python",
   "name": "python",
   "nbconvert_exporter": "python",
   "pygments_lexer": "ipython3",
   "version": "3.9.7"
  }
 },
 "nbformat": 4,
 "nbformat_minor": 5
}
