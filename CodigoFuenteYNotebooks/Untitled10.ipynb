{
 "cells": [
  {
   "cell_type": "markdown",
   "id": "c6e7741b-77f4-4722-b3e9-6658c7d4b61e",
   "metadata": {},
   "source": [
    "# Pandas\n",
    "\n",
    "Pandas es una biblioteca de Python que se utiliza para trabajar con conjuntos de datos.\n",
    "\n",
    "Tiene funciones para analizar, limpiar, explorar y manipular datos.\n",
    "\n",
    "El nombre \"Pandas\" tiene una referencia tanto a \"Panel Data\", como a \"Python Data Analysis\" y fue creado por Wes McKinney en 2008.\n",
    "\n",
    "El objeto esencial de Pandas es el DataFrame, una estructura bidimensional donde las columnas representan atributos y las filas datos concretos."
   ]
  },
  {
   "cell_type": "code",
   "execution_count": 2,
   "id": "edc15ea8-f575-47bd-99e7-1a42e5e249e6",
   "metadata": {},
   "outputs": [
    {
     "name": "stdout",
     "output_type": "stream",
     "text": [
      "    cars  passings\n",
      "0    BMW         3\n",
      "1  Volvo         7\n",
      "2   Ford         2\n"
     ]
    }
   ],
   "source": [
    "import pandas\n",
    "\n",
    "mydataset = {\n",
    "  'cars': [\"BMW\", \"Volvo\", \"Ford\"],\n",
    "  'passings': [3, 7, 2]\n",
    "}\n",
    "\n",
    "myvar = pandas.DataFrame(mydataset)\n",
    "\n",
    "print(myvar) "
   ]
  }
 ],
 "metadata": {
  "kernelspec": {
   "display_name": "Python 3 (ipykernel)",
   "language": "python",
   "name": "python3"
  },
  "language_info": {
   "codemirror_mode": {
    "name": "ipython",
    "version": 3
   },
   "file_extension": ".py",
   "mimetype": "text/x-python",
   "name": "python",
   "nbconvert_exporter": "python",
   "pygments_lexer": "ipython3",
   "version": "3.9.7"
  }
 },
 "nbformat": 4,
 "nbformat_minor": 5
}
