{
 "cells": [
  {
   "cell_type": "markdown",
   "id": "4752d903-a95b-4c0b-9633-aeb49fa0569e",
   "metadata": {},
   "source": [
    "# Excepciones\n",
    "\n",
    "Ya te habrás dado cuenta a lo largo del curso de que tan pronto como el intérprete encuentra un error en Python, el programa termina y las celdas de nuestros notebooks, o nuestros scripts se paran y dejan de ejecutarse. \n",
    "Los errores en Python pueden ser de dos tipo: Errores de Sintaxis y Excepciones. \n",
    "Los errores de sintaxis son simples de localizar y tratar, y te habrás enfrentado a muchos de ellos a lo largo de lo que llevamos de curso. \n",
    "Sin embargo, tratar con errores lógicos o Excepciones es algo mas difícil.\n",
    "Una excepción es un objeto que representa una situación inesperada en la ejecución del programa, para los que el desarrollador debe proporcionarle al intérprete la definición de cómo actuar or reaccionar a la situación.\n",
    "\n",
    "## El bloque try - except\n",
    "\n",
    "La manera más común de lidiar con las excepciones es mediante un bloque try-except, que ejecuta tentativamente un trozo de código (el trozo que se ejecuta como parte del *try*), y si ocurre una excepción especifica se tratará usando el código que se especifica en la sección *except*.\n",
    "\n"
   ]
  },
  {
   "cell_type": "code",
   "execution_count": 2,
   "id": "c14bef32-ae99-49be-bd24-bb22807ffb53",
   "metadata": {},
   "outputs": [
    {
     "name": "stdin",
     "output_type": "stream",
     "text": [
      "Indique un número entero 0\n"
     ]
    },
    {
     "name": "stdout",
     "output_type": "stream",
     "text": [
      "Se produjo un error al intentar leer el dato o realizar la operación <class 'Exception'>\n"
     ]
    }
   ],
   "source": [
    "try:\n",
    "    n=int(input(\"Indique un número entero\"))\n",
    "    result=2/n\n",
    "    print(\"Hemos podido realizar la operación\")\n",
    "except Exception:\n",
    "    print(\"Se produjo un error al intentar leer el dato o realizar la operación\",Exception)\n"
   ]
  },
  {
   "cell_type": "markdown",
   "id": "9a5784f7-fba8-45e0-b7cf-72b0e0999263",
   "metadata": {},
   "source": [
    "En realidad este tipo de bloque de control de flujo de ejecución del programa en python soporta aún más opciones. Veámolas todas en detalle:\n",
    " * Try: El bloque try permite probar los bloques de código en los que es más probable que se produzca la excepción. En caso de que encuentre o levante una excepción, el control salta directamente al bloque Except.\n",
    "\n",
    " * Except: Si se produce una excepción dentro del bloque try, se ejecuta el bloque except. Es necesario especificar un bloque except, siempre con un bloque try. Aquí es donde se especifica qué hacer cuando se produce una excepción.\n",
    "\n",
    "Se pueden utilizar otros dos tipos de bloques para ayudar al proceso de manejo de excepciones mediante bloques try-except.\n",
    "\n",
    " * Else: Si no se produjeron excepciones dentro del bloque try, puede utilizar el bloque else para definir los códigos que deben ejecutarse en tal caso.\n",
    " * Finally: Independientemente del hecho de que se haya levantado una excepción dentro de un bloque try o no, siempre se ejecuta el código que mencionas dentro del bloque final.\n",
    "\n",
    "Entendamos cómo funcionan los bloques try-except.\n",
    "\n",
    "El código que escribes entre las cláusulas try y except, es decir dentro del bloque try, se ejecuta primero. Si no encuentra interrupciones o excepciones dentro del bloque try, entonces el código dentro de los bloques except no se ejecuta. Si has definido los bloques else y finally, entonces los códigos dentro de estos bloques se ejecutarán.\n",
    "\n",
    "Si se produce un error o una excepción dentro del bloque try, entonces el flujo salta directamente al bloque except, y los códigos que especifiques dentro de él se ejecutan. El código restante dentro del bloque try no se ejecuta, en tal caso. Si la cláusula except no maneja la excepción, lleva el flujo al bloque try externo. Esto significa que también puedes tener bloques try anidados. Si el bloque try externo tampoco maneja la excepción, entonces la ejecución se detiene.\n",
    "\n",
    "Sin embargo, si la excepción se maneja dentro del bloque except, entonces el código mencionado dentro del bloque finally, si hay uno, se ejecuta. Tenga en cuenta que cada bloque try puede tener más de un bloque else y se ejecutará el que se maneje primero. \n",
    "\n",
    "Por lo tanto, la jerarquía de especificar bloques except debe ser de tal manera que los bloques except más específicos deben venir primero, seguidos por los más genéricos. Entenderás esto en mayor detalle con ejemplos más adelante en este tutorial."
   ]
  }
 ],
 "metadata": {
  "kernelspec": {
   "display_name": "Python 3 (ipykernel)",
   "language": "python",
   "name": "python3"
  },
  "language_info": {
   "codemirror_mode": {
    "name": "ipython",
    "version": 3
   },
   "file_extension": ".py",
   "mimetype": "text/x-python",
   "name": "python",
   "nbconvert_exporter": "python",
   "pygments_lexer": "ipython3",
   "version": "3.9.7"
  }
 },
 "nbformat": 4,
 "nbformat_minor": 5
}
