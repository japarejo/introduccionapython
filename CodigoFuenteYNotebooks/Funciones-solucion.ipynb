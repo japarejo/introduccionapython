{
 "cells": [
  {
   "cell_type": "markdown",
   "id": "3f9a7f47-d5b7-4cd5-adb1-12379b4097b2",
   "metadata": {},
   "source": [
    "# Funciones\n",
    "\n",
    "Una función es un bloque de código solo se ejecuta cuando es invocada.\n",
    "\n",
    "## Declaración e invocación de funciones\n",
    "\n",
    "En python las funciones se declaran usando la palabra clave *def* junto con el nombre de la función y sus parámetros entre paréntesis. Para invocar dichas funciones simplemente escribimos su nombre y especificamos los valores de los parámetros entre paréntesis:"
   ]
  },
  {
   "cell_type": "code",
   "execution_count": 1,
   "id": "eff3ef68-a325-477c-bd94-cb9f58cc7c27",
   "metadata": {},
   "outputs": [
    {
     "name": "stdout",
     "output_type": "stream",
     "text": [
      "Esto es una función que se ha ejecutado\n"
     ]
    }
   ],
   "source": [
    "def mifuncion():\n",
    "    print(\"Esto es una función que se ha ejecutado\")\n",
    "\n",
    "mifuncion()"
   ]
  },
  {
   "cell_type": "markdown",
   "id": "03c08c1c-d67f-4dab-af47-aa04926adc3d",
   "metadata": {},
   "source": [
    "En python las funciones son ciudadanos de primer nivel del lenguaje, y por tanto, podemos asignar funciones a variables y operar con ellas."
   ]
  },
  {
   "cell_type": "code",
   "execution_count": 2,
   "id": "785378d7-62da-4ac8-8427-ae1a4945ba1b",
   "metadata": {},
   "outputs": [
    {
     "name": "stdout",
     "output_type": "stream",
     "text": [
      "Esto es una función que se ha ejecutado\n"
     ]
    }
   ],
   "source": [
    "variableconfuncion=mifuncion\n",
    "\n",
    "variableconfuncion()"
   ]
  },
  {
   "cell_type": "markdown",
   "id": "1d421d8f-e60e-4c9d-8e78-0fa0f4484ac7",
   "metadata": {},
   "source": [
    "## Parámetros\n",
    "\n",
    "Las funciones en python admiten parámetros para proporcionar información a la función:\n"
   ]
  },
  {
   "cell_type": "code",
   "execution_count": 4,
   "id": "093e1592-7056-407f-89f3-369e9f4e24b3",
   "metadata": {},
   "outputs": [
    {
     "name": "stdout",
     "output_type": "stream",
     "text": [
      "Emil Refsnes\n",
      "Tobias Refsnes\n",
      "Linus Refsnes\n"
     ]
    }
   ],
   "source": [
    "def miotrafuncion(fname):\n",
    "  print(fname + \" Refsnes\")\n",
    "\n",
    "miotrafuncion(\"Emil\")\n",
    "miotrafuncion(\"Tobias\")\n",
    "miotrafuncion(\"Linus\") "
   ]
  },
  {
   "cell_type": "markdown",
   "id": "158c30a8-7d6e-40c2-90db-c7eb152897cf",
   "metadata": {},
   "source": [
    "En python los parámetros se especifican por orden de declaración o bien por nombre al invocar la función (evidentemente cada parámetro debe tener un nombre distinto):"
   ]
  },
  {
   "cell_type": "code",
   "execution_count": 7,
   "id": "b962b7e8-d3ad-4391-99ba-deb124692ad2",
   "metadata": {},
   "outputs": [
    {
     "name": "stdout",
     "output_type": "stream",
     "text": [
      "1.5\n",
      "1.5\n"
     ]
    }
   ],
   "source": [
    "def divide(dividendo,divisor):\n",
    "    return dividendo/divisor\n",
    "\n",
    "print(divide(3, 2))\n",
    "print(divide(divisor=2,dividendo=3))"
   ]
  },
  {
   "cell_type": "markdown",
   "id": "29904480-1369-42e8-ae90-af162c6b8360",
   "metadata": {},
   "source": [
    "Sin embargo, no es posible pasar un argumento por nombre antes que uno que no sea pasado por nombre, una vez empezamos a pasar los parámetros por nombre, todos los parámetros deberán ser pasados por nombre:"
   ]
  },
  {
   "cell_type": "code",
   "execution_count": 10,
   "id": "ce3afd43-7f28-4728-b282-265dc23b8775",
   "metadata": {},
   "outputs": [
    {
     "name": "stdout",
     "output_type": "stream",
     "text": [
      "1.5\n"
     ]
    }
   ],
   "source": [
    "print(divide(3,divisor=2))"
   ]
  },
  {
   "cell_type": "code",
   "execution_count": 11,
   "id": "e3620cd5-8cd2-459d-8813-16d03643966c",
   "metadata": {},
   "outputs": [
    {
     "ename": "SyntaxError",
     "evalue": "positional argument follows keyword argument (Temp/ipykernel_4592/1411486055.py, line 1)",
     "output_type": "error",
     "traceback": [
      "\u001b[1;36m  File \u001b[1;32m\"C:\\Users\\japar\\AppData\\Local\\Temp/ipykernel_4592/1411486055.py\"\u001b[1;36m, line \u001b[1;32m1\u001b[0m\n\u001b[1;33m    print(divide(divisor=2,3)) # Esto generará un error de sintaxis del lenguaje en la invocación a la función\u001b[0m\n\u001b[1;37m                            ^\u001b[0m\n\u001b[1;31mSyntaxError\u001b[0m\u001b[1;31m:\u001b[0m positional argument follows keyword argument\n"
     ]
    }
   ],
   "source": [
    "print(divide(divisor=2,3)) # Esto generará un error de sintaxis del lenguaje en la invocación a la función"
   ]
  },
  {
   "cell_type": "markdown",
   "id": "a815dee1-4196-4966-b172-c52a0ab78214",
   "metadata": {},
   "source": [
    "Pueden declararse parámetros como opcionales indicando un valor por defecto al decarar la función:"
   ]
  },
  {
   "cell_type": "code",
   "execution_count": 13,
   "id": "324a3f83-6c27-4411-a9fe-3de600080a43",
   "metadata": {},
   "outputs": [
    {
     "name": "stdout",
     "output_type": "stream",
     "text": [
      "1.5\n",
      "1.5\n",
      "3.0\n"
     ]
    }
   ],
   "source": [
    "def divide(dividendo,divisor=1):   # El valor por defecto para el divisor es 1\n",
    "    return dividendo/divisor\n",
    "\n",
    "print(divide(3, 2))\n",
    "print(divide(divisor=2,dividendo=3))\n",
    "print(divide(3))"
   ]
  },
  {
   "cell_type": "markdown",
   "id": "368bdcbf-43a7-4223-85c1-5257b0342f05",
   "metadata": {},
   "source": [
    "Cuando los parámetros son variables de los tipos básicos del lenguaje, los parámetros se pasan por copia, y por tanto, las modificaciones que hagamos en el interior de la función no se reflejarán fuera de la misma:"
   ]
  },
  {
   "cell_type": "code",
   "execution_count": 19,
   "id": "9db69b2c-9d7b-4ade-b43c-658ea095fd28",
   "metadata": {},
   "outputs": [
    {
     "name": "stdout",
     "output_type": "stream",
     "text": [
      "---------DENTRO---------\n",
      "4\n",
      "2\n",
      "---------FUERA---------\n",
      "4\n"
     ]
    }
   ],
   "source": [
    "x=4\n",
    "def cambiar(param):\n",
    "    print(\"---------DENTRO---------\")\n",
    "    print(param)\n",
    "    param=2\n",
    "    print(param)\n",
    "cambiar(x)\n",
    "print(\"---------FUERA---------\")\n",
    "print(x)\n"
   ]
  },
  {
   "cell_type": "markdown",
   "id": "764bc6da-7fd7-4f7f-ba2a-4a1397147670",
   "metadata": {},
   "source": [
    "Sin embargo, cuando los parámetros son objetos o colecciones mutables, los parámetros se paran por referencia, y por tanto, los cambios que realicemos dentro de la función se reflejarán fuera de ella."
   ]
  },
  {
   "cell_type": "code",
   "execution_count": 22,
   "id": "5c5d69a3-599a-494f-8383-06addf998559",
   "metadata": {},
   "outputs": [
    {
     "name": "stdout",
     "output_type": "stream",
     "text": [
      "---------DENTRO---------\n",
      "['no puedo', 'al ataqueeer']\n",
      "['no puedo', 'Hasta luego Lucas!']\n",
      "---------FUERA---------\n",
      "['no puedo', 'Hasta luego Lucas!']\n"
     ]
    }
   ],
   "source": [
    "x=[\"no puedo\", \"al ataqueeer\"]\n",
    "def cambiar(lista):\n",
    "    print(\"---------DENTRO---------\")\n",
    "    print(lista)\n",
    "    lista[1]=\"Hasta luego Lucas!\"\n",
    "    print(lista)\n",
    "cambiar(x)\n",
    "print(\"---------FUERA---------\")\n",
    "print(x)"
   ]
  },
  {
   "cell_type": "markdown",
   "id": "e8cf3ddd-e006-48fa-9ea2-5117bd6ab25a",
   "metadata": {},
   "source": [
    "Podemos deinir funciones con un número arbitrario de argumentos, declarando un parámetro cuyo combre comienza por *:"
   ]
  },
  {
   "cell_type": "code",
   "execution_count": 32,
   "id": "05f9d07a-5e88-4b28-bf23-289b35b23a1b",
   "metadata": {},
   "outputs": [
    {
     "name": "stdout",
     "output_type": "stream",
     "text": [
      "('hola', 'mundo')\n",
      "('Esto', 'Es', 1, 'prueba')\n"
     ]
    }
   ],
   "source": [
    "def imprimir(*args):\n",
    "    print(args)\n",
    "    \n",
    "imprimir(\"hola\",\"mundo\")\n",
    "imprimir(\"Esto\", \"Es\",1,\"prueba\") # ¿de que tipo créeis que sera el parámetro args?"
   ]
  },
  {
   "cell_type": "markdown",
   "id": "32fe5803-e55f-4497-9e51-746470d66f6d",
   "metadata": {},
   "source": [
    "## Ámbito de una función\n",
    "\n",
    "Las funciones admiten que declaremos variables en su interior, pero estas variables solamente estarán definidas en el contexto de la propia función, y no podremos usarlas desde fuera:"
   ]
  },
  {
   "cell_type": "code",
   "execution_count": 25,
   "id": "1a13f9e6-fa1d-4dd3-aa70-b434a7cb2571",
   "metadata": {},
   "outputs": [
    {
     "name": "stdout",
     "output_type": "stream",
     "text": [
      "3.14159\n",
      "12.56636\n"
     ]
    },
    {
     "ename": "NameError",
     "evalue": "name 'pi' is not defined",
     "output_type": "error",
     "traceback": [
      "\u001b[1;31m---------------------------------------------------------------------------\u001b[0m",
      "\u001b[1;31mNameError\u001b[0m                                 Traceback (most recent call last)",
      "\u001b[1;32m~\\AppData\\Local\\Temp/ipykernel_4592/792123580.py\u001b[0m in \u001b[0;36m<module>\u001b[1;34m\u001b[0m\n\u001b[0;32m      5\u001b[0m \u001b[0mprint\u001b[0m\u001b[1;33m(\u001b[0m\u001b[0mareaCirculo\u001b[0m\u001b[1;33m(\u001b[0m\u001b[1;36m1\u001b[0m\u001b[1;33m)\u001b[0m\u001b[1;33m)\u001b[0m\u001b[1;33m\u001b[0m\u001b[1;33m\u001b[0m\u001b[0m\n\u001b[0;32m      6\u001b[0m \u001b[0mprint\u001b[0m\u001b[1;33m(\u001b[0m\u001b[0mareaCirculo\u001b[0m\u001b[1;33m(\u001b[0m\u001b[1;36m2\u001b[0m\u001b[1;33m)\u001b[0m\u001b[1;33m)\u001b[0m\u001b[1;33m\u001b[0m\u001b[1;33m\u001b[0m\u001b[0m\n\u001b[1;32m----> 7\u001b[1;33m \u001b[0mprint\u001b[0m\u001b[1;33m(\u001b[0m\u001b[0mpi\u001b[0m\u001b[1;33m)\u001b[0m\u001b[1;33m\u001b[0m\u001b[1;33m\u001b[0m\u001b[0m\n\u001b[0m",
      "\u001b[1;31mNameError\u001b[0m: name 'pi' is not defined"
     ]
    }
   ],
   "source": [
    "def areaCirculo(radio):\n",
    "    pi=3.14159\n",
    "    return pi*radio*radio\n",
    "\n",
    "print(areaCirculo(1))\n",
    "print(areaCirculo(2))\n",
    "print(pi)"
   ]
  },
  {
   "cell_type": "markdown",
   "id": "5a082f4b-62f1-4ef6-85c3-9a4453e4f57a",
   "metadata": {},
   "source": [
    "Esta limitación afecta también a las funciones que definamos a su vez dentro de la propia función:"
   ]
  },
  {
   "cell_type": "code",
   "execution_count": 28,
   "id": "4ff46b33-1496-4636-886a-268cc6309aee",
   "metadata": {},
   "outputs": [
    {
     "name": "stdout",
     "output_type": "stream",
     "text": [
      "12.56636\n"
     ]
    },
    {
     "ename": "NameError",
     "evalue": "name 'cuadrado' is not defined",
     "output_type": "error",
     "traceback": [
      "\u001b[1;31m---------------------------------------------------------------------------\u001b[0m",
      "\u001b[1;31mNameError\u001b[0m                                 Traceback (most recent call last)",
      "\u001b[1;32m~\\AppData\\Local\\Temp/ipykernel_4592/2141625906.py\u001b[0m in \u001b[0;36m<module>\u001b[1;34m\u001b[0m\n\u001b[0;32m      6\u001b[0m \u001b[1;33m\u001b[0m\u001b[0m\n\u001b[0;32m      7\u001b[0m \u001b[0mprint\u001b[0m\u001b[1;33m(\u001b[0m\u001b[0mareaCirculo\u001b[0m\u001b[1;33m(\u001b[0m\u001b[1;36m2\u001b[0m\u001b[1;33m)\u001b[0m\u001b[1;33m)\u001b[0m\u001b[1;33m\u001b[0m\u001b[1;33m\u001b[0m\u001b[0m\n\u001b[1;32m----> 8\u001b[1;33m \u001b[0mprint\u001b[0m\u001b[1;33m(\u001b[0m\u001b[0mcuadrado\u001b[0m\u001b[1;33m(\u001b[0m\u001b[1;36m2\u001b[0m\u001b[1;33m)\u001b[0m\u001b[1;33m)\u001b[0m\u001b[1;33m\u001b[0m\u001b[1;33m\u001b[0m\u001b[0m\n\u001b[0m",
      "\u001b[1;31mNameError\u001b[0m: name 'cuadrado' is not defined"
     ]
    }
   ],
   "source": [
    "def areaCirculo(radio):\n",
    "    def cuadrado(valor):\n",
    "        return valor*valor\n",
    "    pi=3.14159\n",
    "    return pi*cuadrado(radio)\n",
    "\n",
    "print(areaCirculo(2))\n",
    "print(cuadrado(2))\n"
   ]
  },
  {
   "cell_type": "markdown",
   "id": "5ceff3ed-cc2e-435e-92dc-09e3b02fe167",
   "metadata": {},
   "source": [
    "## Funciones recursivas\n",
    "\n",
    "En python podemos declarar funciones recursivas, que son funciones que se invocan a sí misma como uno de sus pasos. Es importante tener cuidado cuando definimos funciones recursivas puesto que es muy fácil generar un bucle infinito de llamadas:"
   ]
  },
  {
   "cell_type": "code",
   "execution_count": 39,
   "id": "1ecf0320-903b-460d-9492-5c3ca4b4dfc0",
   "metadata": {},
   "outputs": [
    {
     "name": "stdout",
     "output_type": "stream",
     "text": [
      "5\n",
      "4\n",
      "3\n",
      "2\n",
      "1\n",
      "Stop!\n"
     ]
    }
   ],
   "source": [
    "def conteo(n):\n",
    "    if(n>0):\n",
    "        print(n)\n",
    "        conteo(n-1)\n",
    "    else:\n",
    "        print(\"Stop!\")\n",
    "        \n",
    "conteo(5)\n",
    "              \n",
    "    "
   ]
  },
  {
   "cell_type": "markdown",
   "id": "2b67b7fc-4b45-49e4-8730-31d458b51852",
   "metadata": {},
   "source": [
    "## Expresiones lambda:\n",
    "\n",
    "Podemos definir una expresión lambda como una función anónima que usamos puntualmente. La sintaxis que se siguen para declararlas es *lambda parámetros : expresión*. Ejemplo:\n",
    "\n"
   ]
  },
  {
   "cell_type": "code",
   "execution_count": 36,
   "id": "ad95c1ca-0249-485e-8548-513997aa0da4",
   "metadata": {},
   "outputs": [
    {
     "name": "stdout",
     "output_type": "stream",
     "text": [
      "15\n"
     ]
    }
   ],
   "source": [
    "x = lambda a : a + 10\n",
    "print(x(5)) "
   ]
  },
  {
   "cell_type": "code",
   "execution_count": 37,
   "id": "23ff46be-b9b5-4170-a9f1-e897007839b9",
   "metadata": {},
   "outputs": [
    {
     "name": "stdout",
     "output_type": "stream",
     "text": [
      "13\n"
     ]
    }
   ],
   "source": [
    "x = lambda a, b, c : a + b + c\n",
    "print(x(5, 6, 2)) "
   ]
  },
  {
   "cell_type": "markdown",
   "id": "03717144-eb98-453c-a5bd-f201f335eae9",
   "metadata": {},
   "source": [
    "Las funciones lambda en python adquiren todo su interés cuando se combinan con las siguientes funciones del lenguaje:\n",
    "- *filter*: permite filtrar los elementos de una colección en base a una expresión lambda que evalua a un valor booleano.\n",
    "- *map*: permite transformar los elementos de una colección y obtener otra colección en base a la aplicación secuencial de la expresión lambda a los elementos.\n",
    "- *reduce*: permite agregar en un único resultado el cómputo asociado a todos los elementos de un colección.\n",
    "\n",
    "Por ejemplo, para el filtrado:"
   ]
  },
  {
   "cell_type": "code",
   "execution_count": 41,
   "id": "5e86032e-d2f9-4de6-bbc9-ee0756e4adea",
   "metadata": {},
   "outputs": [
    {
     "name": "stdout",
     "output_type": "stream",
     "text": [
      "[21, 72, 102, 123, 90]\n",
      "[72, 102, 123, 65, 85, 90]\n"
     ]
    }
   ],
   "source": [
    "#Defining the list\n",
    "example_lst = (5, 21, 72, 102, 16, 123, 65, 85, 19, 90)  \n",
    "\n",
    "# Passing the lambda function\n",
    "divisible_lst = list(filter(lambda i:(i%3 == 0),example_lst))\n",
    "\n",
    "print(divisible_lst)\n",
    "\n",
    "# Passing the second lambda function\n",
    "greater_lst = list(filter(lambda i:(i>50), example_lst))\n",
    "\n",
    "print(greater_lst)"
   ]
  },
  {
   "cell_type": "markdown",
   "id": "1233217c-6812-491d-8198-d19555658522",
   "metadata": {},
   "source": [
    "Ejemplo de uso del mapeo con expresiones lambda:"
   ]
  },
  {
   "cell_type": "code",
   "execution_count": 42,
   "id": "458ecf6f-0b6a-45a9-b846-d86cc9a1d78d",
   "metadata": {},
   "outputs": [
    {
     "name": "stdout",
     "output_type": "stream",
     "text": [
      "[10, 42, 144, 204, 32, 246, 130, 170, 38, 180]\n",
      "[25, 441, 5184, 10404, 256, 15129, 4225, 7225, 361, 8100]\n"
     ]
    }
   ],
   "source": [
    "# Defining the list\n",
    "example_lst = (5, 21, 72, 102, 16, 123, 65, 85, 19, 90)  \n",
    "\n",
    "# Passing the lambda function\n",
    "duble_lst = (list(map(lambda i:i*2, example_lst)))\n",
    "print(duble_lst)\n",
    "\n",
    "# Passing the second lambda function\n",
    "square_lst = (list(map(lambda i:i*i, example_lst)))\n",
    "print(square_lst)"
   ]
  },
  {
   "cell_type": "markdown",
   "id": "646a86f1-5241-4975-9f00-0123b4984e31",
   "metadata": {},
   "source": [
    "La función reduce forma parte del paquete functools, por lo que es necesario importar dicho paquete para poder usarla:"
   ]
  },
  {
   "cell_type": "code",
   "execution_count": 43,
   "id": "6d79be88-4608-4549-85e9-685160f5e358",
   "metadata": {},
   "outputs": [
    {
     "name": "stdout",
     "output_type": "stream",
     "text": [
      "598\n",
      "The Greatest Number of the List is: 123\n"
     ]
    }
   ],
   "source": [
    "from functools import reduce\n",
    "\n",
    "# Defining the list\n",
    "example_lst = (5, 21, 72, 102, 16, 123, 65, 85, 19, 90)  \n",
    "\n",
    "# Passing the lambda function\n",
    "sum_lst = reduce((lambda i,j: i+j), example_lst)\n",
    "\n",
    "print(sum_lst)\n",
    "\n",
    "# Passing the second lambda function\n",
    "max_value = reduce((lambda i,j: i if i>j else j), example_lst)\n",
    "\n",
    "print(\"The Greatest Number of the List is: \", end=\"\")\n",
    "\n",
    "print(max_value)"
   ]
  },
  {
   "cell_type": "markdown",
   "id": "d11cbcbb-b265-4b3c-85be-74bcf500e57d",
   "metadata": {},
   "source": [
    "En el fondo, el mejor uso de las expresiones lambda en Python es definir funciones ortas de un solo uso. Por lo tanto, si el código se vuelve demasiado complejo, es mejor evitarlas.\n",
    "\n",
    "Aunque se puede escribir un código complejo en una sola línea con expresiones lambda, se recomienda definir una función regular en estos casos para que el código sea más sencillo y fácil de entender.\n",
    "\n",
    "También se recomienda evitar las expresiones lambda en Python si necesitas lanzar una excepción o definir una variale para realizar el cálculo.\n",
    "\n"
   ]
  },
  {
   "cell_type": "markdown",
   "id": "32b352f3-03f6-4284-9285-6ea9933238ba",
   "metadata": {},
   "source": [
    "# Ejercicios:\n",
    "\n",
    "## Ejercicio 1:\n",
    "\n",
    "Escriba una función recursiva que permita calcular la sucesión de fibonacci hasta el enésimo valor (donde n es un parámetro de la función). Imprima el valor de n capturado de la entrada del usuario mediante el código que se proporciona:"
   ]
  },
  {
   "cell_type": "code",
   "execution_count": 51,
   "id": "6a91bcdc-628b-4ef0-91cc-059df4fa9d5d",
   "metadata": {},
   "outputs": [
    {
     "name": "stdin",
     "output_type": "stream",
     "text": [
      "Indique el número de la sucesión de fibonacci que desea obtener: 5\n"
     ]
    },
    {
     "name": "stdout",
     "output_type": "stream",
     "text": [
      "3\n"
     ]
    }
   ],
   "source": [
    "n=int(input(\"Indique el número de la sucesión de fibonacci que desea obtener:\"))\n",
    "def fibonaccif(n):\n",
    "    if n==1:\n",
    "        return 0;\n",
    "    elif n==2:\n",
    "        return 1;\n",
    "    else:\n",
    "        return fibonaccif(n-1)+fibonaccif(n-2)\n",
    "print(fibonaccif(n))"
   ]
  },
  {
   "cell_type": "markdown",
   "id": "48a6a55c-25b4-4cdd-9868-30828e7027fe",
   "metadata": {},
   "source": [
    "## Ejercicio 2: \n",
    "\n",
    "Implemente un código similar al anterior que devuelva la sucesión completa hasta el valor n como una lista usando una expresión lambda y la función reduce."
   ]
  },
  {
   "cell_type": "code",
   "execution_count": 52,
   "id": "204f321a-56c6-4c0f-a5ee-d78bc29cd0b9",
   "metadata": {},
   "outputs": [
    {
     "name": "stdin",
     "output_type": "stream",
     "text": [
      "Indique los números de la sucesión de fibonacci que desea obtener: 8\n"
     ]
    },
    {
     "name": "stdout",
     "output_type": "stream",
     "text": [
      "[0, 1, 1, 2, 3, 5, 8, 13]\n"
     ]
    }
   ],
   "source": [
    "n=int(input(\"Indique los números de la sucesión de fibonacci que desea obtener:\"))\n",
    "\n",
    "fibonacci = lambda n: reduce(lambda x, _: x+[x[-1]+x[-2]],\n",
    "                                range(n-2), [0, 1])\n",
    "print(fibonacci(n))"
   ]
  },
  {
   "cell_type": "markdown",
   "id": "1a9064ae-bf33-4c8e-9a52-81e2b3218b69",
   "metadata": {},
   "source": [
    "## Ejercicio 3:\n",
    "\n",
    "Implemente un código en python mediante expresiones lambda que permita encontrar la parte común de dos arrays, pruébelo con los datos que se proporcionan a continuación:"
   ]
  },
  {
   "cell_type": "code",
   "execution_count": 53,
   "id": "118f74d2-6676-453b-a9d0-4fd3c4146eb6",
   "metadata": {},
   "outputs": [
    {
     "name": "stdout",
     "output_type": "stream",
     "text": [
      "Original arrays:\n",
      "[1, 2, 3, 5, 7, 8, 9, 10]\n",
      "[1, 2, 4, 8, 9]\n",
      "\n",
      "Intersection of the said arrays:  [1, 2, 8, 9]\n"
     ]
    }
   ],
   "source": [
    "array_nums1 = [1, 2, 3, 5, 7, 8, 9, 10]\n",
    "array_nums2 = [1, 2, 4, 8, 9]\n",
    "print(\"Original arrays:\")\n",
    "print(array_nums1)\n",
    "print(array_nums2)\n",
    "# Solución:\n",
    "result = list(filter(lambda x: x in array_nums1, array_nums2)) \n",
    "print (\"\\nIntersection of the said arrays: \",result)"
   ]
  },
  {
   "cell_type": "code",
   "execution_count": 1,
   "id": "1cce59cb-7f96-43e2-83ad-21a9e885c78c",
   "metadata": {},
   "outputs": [
    {
     "data": {
      "image/png": "[encoded data removed]",
      "text/plain": [
       "<Figure size 432x288 with 1 Axes>"
      ]
     },
     "metadata": {
      "needs_background": "light"
     },
     "output_type": "display_data"
    }
   ],
   "source": [
    "import matplotlib.pyplot as plt\n",
    "def draw_fibo(n):\n",
    "    ratio = []\n",
    "    num = []\n",
    "    # Starting values\n",
    "    a = 0\n",
    "    b = 1\n",
    "    for i in range(1, n):\n",
    "        c = a + b\n",
    "        num.append(i)\n",
    "        ratio.append(c / b)\n",
    "        a = b\n",
    "        b = c\n",
    "    draw_graph(num, ratio)\n",
    "\n",
    "\n",
    "def draw_graph(x, y):\n",
    "    plt.plot(x, y)\n",
    "    plt.xlabel('No.')\n",
    "\n",
    "    plt.ylabel('Ratio')\n",
    "    plt.title('Ratio between consecutive Fibonacci numbers')\n",
    "    \n",
    "draw_fibo(100)"
   ]
  }
 ],
 "metadata": {
  "kernelspec": {
   "display_name": "Python 3 (ipykernel)",
   "language": "python",
   "name": "python3"
  },
  "language_info": {
   "codemirror_mode": {
    "name": "ipython",
    "version": 3
   },
   "file_extension": ".py",
   "mimetype": "text/x-python",
   "name": "python",
   "nbconvert_exporter": "python",
   "pygments_lexer": "ipython3",
   "version": "3.9.7"
  }
 },
 "nbformat": 4,
 "nbformat_minor": 5
}
