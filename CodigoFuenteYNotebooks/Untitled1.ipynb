{
 "cells": [
  {
   "cell_type": "markdown",
   "id": "f8601c55-9b5b-4676-8435-ea6b03be652e",
   "metadata": {},
   "source": [
    "# Control de flujo del programa"
   ]
  },
  {
   "cell_type": "markdown",
   "id": "2c260eb9-44d8-4281-90b5-8d0d3f1cc67e",
   "metadata": {},
   "source": [
    "Python es un lenguaje moderno que incorpora multitud de instrucciones de control de flujo del programa"
   ]
  },
  {
   "cell_type": "markdown",
   "id": "8d844053-204a-4348-8668-9f747a54fc53",
   "metadata": {},
   "source": [
    "# Ejercicios:"
   ]
  }
 ],
 "metadata": {
  "kernelspec": {
   "display_name": "Python 3 (ipykernel)",
   "language": "python",
   "name": "python3"
  },
  "language_info": {
   "codemirror_mode": {
    "name": "ipython",
    "version": 3
   },
   "file_extension": ".py",
   "mimetype": "text/x-python",
   "name": "python",
   "nbconvert_exporter": "python",
   "pygments_lexer": "ipython3",
   "version": "3.9.7"
  }
 },
 "nbformat": 4,
 "nbformat_minor": 5
}
