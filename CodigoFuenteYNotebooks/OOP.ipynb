{
 "cells": [
  {
   "cell_type": "markdown",
   "id": "5f25099f-2f20-4a28-bf47-3a2ed2ccae39",
   "metadata": {},
   "source": [
    "# Programación Orientada a Objetos en Python\n",
    "\n",
    "La programación orientada a objetos (POO) es un método para estructurar un programa agrupando propiedades y comportamientos relacionados en objetos individuales. \n",
    "\n",
    "Conceptualmente, los objetos son como los componentes de un sistema. Piensa en un programa como una especie de línea de montaje de una fábrica. En cada paso de la línea de montaje un componente del sistema procesa algún material, transformando finalmente la materia prima en un producto terminado.\n",
    "\n",
    "Un objeto contiene datos, como los materiales crudos o preprocesados en cada paso de la cadena de montaje, y un comportamiento, como la acción que realiza cada componente de la cadena de montaje.\n",
    "\n",
    "La clave de la POO en Python se centra en la creación de código reutilizable. Este concepto también se conoce como DRY (Don't Repeat Yourself).\n",
    "\n",
    "Los principios clave de la orientación a objetos se resumen en la siguiente imagen:\n",
    "\n",
    "<img src=\"https://media.geeksforgeeks.org/wp-content/uploads/20220608174843/OOPS1-282x300.png\"/>\n",
    "\n",
    "\n",
    "## Clases y Objetos\n",
    "\n",
    "Una clase es un esquema del objeto.\n",
    "\n",
    "Para entender la necesidad de crear una clase consideremos un ejemplo, digamos que se quiere hacer un programa que gestion mascotas, concretamente de perros que pueden tener diferentes atributos como la raza, la edad, el peso, etc. Si se utiliza una lista, el primer elemento podría ser la raza del perro, mientras que el segundo elemento podría representar su edad. Supongamos que hay 100 perros diferentes, entonces ¿cómo se sabría qué elemento se supone que es cada uno? ¿Y si quieres añadir otras propiedades a estos perros? Esto carece de organización, y resultaría muy engorroso."
   ]
  },
  {
   "cell_type": "code",
   "execution_count": 2,
   "id": "041e0030-64ec-42eb-8c22-de5b0e66dd47",
   "metadata": {},
   "outputs": [],
   "source": [
    "kirk = [\"James Kirk\", 34, \"Capitán\", 2265]\n",
    "spock = [\"Spock\", 35, \"Ofical científico\", 2254]\n",
    "mccoy = [\"Leonard McCoy\",None, \"Oficial médico jefe\", 2266]"
   ]
  },
  {
   "cell_type": "markdown",
   "id": "92f3bf75-b464-429e-a5b7-d178421b1b16",
   "metadata": {},
   "source": [
    "Las clases se crean con la palabra clave class.\n",
    "Las clases se utilizan para crear estructuras de datos definidas por el usuario. Las clases definen funciones llamadas métodos, que identifican los comportamientos y acciones que un objeto creado a partir de la clase puede realizar con sus datos. Los atributos son las variables que pertenecen a una clase,se puede acceder a ellos utilizando el operador punto (.). Ej: Miclase.Miatributo.\n",
    "\n",
    "Mientras que la clase es el esquema, una instancia es un objeto que se construye a partir de una clase y contiene datos reales. Una instancia de la clase Perro ya no es un esquema. Es un perro real con un nombre, como Miles, que tiene cuatro años.\n",
    "\n",
    "Los atributos pueden ser atributos de clase (pertenecen a la clase y por tanto son compartidos por todas las instancias), o atributos de instancia, donde cada instancia concreta tiene su propia copia independiente del atributo.\n",
    "\n",
    "La creación de un nuevo objeto a partir de una clase se denomina instanciar un objeto. Puede instanciar un nuevo objeto *Perro* escribiendo el nombre de la clase, seguido de los paréntesis de apertura, los valores de los parámetros y el cierre de los paréntesis:\n",
    "\n",
    "    Perro(\"Bufi\")\n"
   ]
  },
  {
   "cell_type": "code",
   "execution_count": 4,
   "id": "7f6240bb-d06b-4ec3-a0a8-785edb8a12d7",
   "metadata": {},
   "outputs": [
    {
     "name": "stdout",
     "output_type": "stream",
     "text": [
      "Rodger es un Mamífero\n",
      "Tommy es un Mamífero\n",
      "Mi nombre es Rodger y peso 3.4 kilos\n",
      "Mi nombre es Tommy y peso 6 kilos\n",
      "guau!!!!guau!!!!guau!!!!\n",
      "Tommy es tu amigo, olisqueemos nuestros traseros!!!\n",
      "GUAU!\n"
     ]
    }
   ],
   "source": [
    "class Perro:\n",
    "    # Atributo de clase\n",
    "    orden = \"Mamífero\"\n",
    "    \n",
    "    # Constructor con definición de atributos de instancia\n",
    "    def __init__(self,nombre, edad=1,peso=3.4,altura=0.3,longitud=0.56):\n",
    "        self.nombre=nombre\n",
    "        self.edad=edad\n",
    "        self.peso=peso\n",
    "        self.altura=altura\n",
    "        self.longitud=longitud   # medida inclueyndo el rabo :-D\n",
    "    \n",
    "    # Métodos de instancia\n",
    "    def olisquear(self):\n",
    "        return \"{} es tu amigo, olisqueemos nuestros traseros!!!\".format(self.nombre)    \n",
    "    \n",
    "    def ladrar(self):\n",
    "        if(self.peso>5):\n",
    "            return \"GUAU!\";\n",
    "        else:\n",
    "            resultado=\"\";\n",
    "            for i in range(int(self.peso)):\n",
    "                resultado+=\"guau!!!!\"\n",
    "            return resultado\n",
    "\n",
    "# Instanciación de objetos:\n",
    "Rodger = Perro(\"Rodger\")\n",
    "Tommy = Perro(\"Tommy\",peso=6)\n",
    " \n",
    "# Accediendo a los atributos de clase\n",
    "print(\"Rodger es un {}\".format(Rodger.__class__.orden))\n",
    "print(\"Tommy es un {}\".format(Tommy.__class__.orden))\n",
    " \n",
    "# Accediendo a los atributos de los objetos:\n",
    "print(\"Mi nombre es {} y peso {} kilos\".format(Rodger.nombre, Rodger.peso))\n",
    "print(\"Mi nombre es {} y peso {} kilos\".format(Tommy.nombre, Tommy.peso))\n",
    "\n",
    "print(Rodger.ladrar())\n",
    "print(Tommy.olisquear())\n",
    "print(Tommy.ladrar())\n"
   ]
  },
  {
   "cell_type": "markdown",
   "id": "bc5dd021-fa65-4aa7-84c2-ac847fa514f2",
   "metadata": {},
   "source": [
    "Al instanciar un objeto, tenemos un  un nuevo objeto Perro en una dirección de memoria."
   ]
  },
  {
   "cell_type": "code",
   "execution_count": 7,
   "id": "9b793f69-fa77-4112-9779-91a59a446ecd",
   "metadata": {},
   "outputs": [
    {
     "data": {
      "text/plain": [
       "<__main__.Perro at 0x1f0557723a0>"
      ]
     },
     "execution_count": 7,
     "metadata": {},
     "output_type": "execute_result"
    }
   ],
   "source": [
    "bufi=Perro(\"Bufi\")\n",
    "bufi"
   ]
  },
  {
   "cell_type": "markdown",
   "id": "b994ba6d-be02-4d20-b638-989fae332033",
   "metadata": {},
   "source": [
    "Esta cadena de letras y números de aspecto gracioso es una dirección de memoria que indica dónde está almacenado el objeto Dog en la memoria de tu ordenador. Ten en cuenta que la dirección que ve cada alumno en su pantalla será diferente.\n",
    "\n",
    "Ahora instancie un segundo objeto Dog:"
   ]
  },
  {
   "cell_type": "code",
   "execution_count": 8,
   "id": "a390fe34-fd4d-4515-831d-5ce0a5a72352",
   "metadata": {},
   "outputs": [
    {
     "data": {
      "text/plain": [
       "<__main__.Perro at 0x1f0556e44f0>"
      ]
     },
     "execution_count": 8,
     "metadata": {},
     "output_type": "execute_result"
    }
   ],
   "source": [
    "pluto=Perro(\"Pluto\")\n",
    "pluto"
   ]
  },
  {
   "cell_type": "markdown",
   "id": "1aab7627-fc9a-440d-a44c-a3df9cdab7d8",
   "metadata": {},
   "source": [
    "Es importante distinguir entre la identidad de un objeto que viene definido por el espacio que ocupa en la memoria del ordenador y el estado del objeto, que viene definido por los valores que tienen sus atributos de instancia. En este caso tenemos dos objetos que tienen tanto una identidad distinta como un estado distinto, uno se llama Bufi y otro Pluto."
   ]
  },
  {
   "cell_type": "code",
   "execution_count": 9,
   "id": "6cd7638c-05d1-4a23-976c-53e556c3db2a",
   "metadata": {},
   "outputs": [
    {
     "data": {
      "text/plain": [
       "False"
      ]
     },
     "execution_count": 9,
     "metadata": {},
     "output_type": "execute_result"
    }
   ],
   "source": [
    "bufi==pluto"
   ]
  },
  {
   "cell_type": "markdown",
   "id": "61b646c1-38d1-40d5-b3bb-af7d930e267f",
   "metadata": {},
   "source": [
    "Sin embargo, aún cuando el estado de dos objetos sea exactamente igual, éstos pueden tener una identidad diferente. Por ejemplo, si cambiamos el nombre de Pluto a Bufi, el estado de los dos objetos es el mismo pero sin embargo su comparación sigue dando false porque tienen distinta identidad, no *son* el mismo objeto:"
   ]
  },
  {
   "cell_type": "code",
   "execution_count": 10,
   "id": "86d950ce-c76d-4df1-b93a-317eca9f37df",
   "metadata": {},
   "outputs": [
    {
     "data": {
      "text/plain": [
       "False"
      ]
     },
     "execution_count": 10,
     "metadata": {},
     "output_type": "execute_result"
    }
   ],
   "source": [
    "pluto.nombre=\"Bufi\"\n",
    "pluto==bufi"
   ]
  },
  {
   "cell_type": "markdown",
   "id": "9cacf678-2b6e-4a5d-adf8-5fb6cdad6bbd",
   "metadata": {},
   "source": [
    "Podemos alterar este comportamiento y hacer que el operador de comparación evalúe la igualdad en estado (o parte del estado) en lugar de la identidad de los objetos. Para ello debemos defini el método *__eq__*. Ej:"
   ]
  },
  {
   "cell_type": "code",
   "execution_count": 16,
   "id": "af077890-c587-40d1-ba64-ede27e8cfed4",
   "metadata": {},
   "outputs": [
    {
     "data": {
      "text/plain": [
       "True"
      ]
     },
     "execution_count": 16,
     "metadata": {},
     "output_type": "execute_result"
    }
   ],
   "source": [
    "class Perro:\n",
    "    def __eq__(self,other):\n",
    "        if isinstance(other,Perro):\n",
    "            return self.nombre==other.nombre and self.edad == other.edad # Ojo! la igualdad no usa todo el estado del objeto, solo la edad y el nombre :-S\n",
    "        else:\n",
    "            return False\n",
    "     # Atributo de clase\n",
    "    orden = \"Mamífero\"\n",
    "    \n",
    "    # Constructor con definición de atributos de instancia\n",
    "    def __init__(self,nombre, edad=1,peso=3.4,altura=0.3,longitud=0.56):\n",
    "        self.nombre=nombre\n",
    "        self.edad=edad\n",
    "        self.peso=peso\n",
    "        self.altura=altura\n",
    "        self.longitud=longitud   # medida inclueyndo el rabo :-D\n",
    "    \n",
    "    # Métodos de instancia\n",
    "    def olisquear(self):\n",
    "        return \"{} es tu amigo, olisqueemos nuestros traseros!!!\".format(self.nombre)    \n",
    "    \n",
    "    def ladrar(self):\n",
    "        if(self.peso>5):\n",
    "            return \"GUAU!\";\n",
    "        else:\n",
    "            resultado=\"\";\n",
    "            for i in range(int(self.peso)):\n",
    "                resultado+=\"guau!!!!\"\n",
    "            return resultado\n",
    "\n",
    "bufi=Perro(\"Bufi\")\n",
    "pluto=Perro(\"Bufi\")\n",
    "\n",
    "bufi==pluto"
   ]
  },
  {
   "cell_type": "markdown",
   "id": "4abac163-0253-485b-b91d-a2d7b0125cef",
   "metadata": {},
   "source": [
    "El hecho de que hayamos sobreescrito el operador de igualdad no significa que no podamos comparar si dos objetos *son* el mismo, para ello tenemos el operador *is*:"
   ]
  },
  {
   "cell_type": "code",
   "execution_count": 15,
   "id": "b7ebfcf6-4784-4952-b4be-6ed8ebae465c",
   "metadata": {},
   "outputs": [
    {
     "data": {
      "text/plain": [
       "False"
      ]
     },
     "execution_count": 15,
     "metadata": {},
     "output_type": "execute_result"
    }
   ],
   "source": [
    "bufi is pluto"
   ]
  },
  {
   "cell_type": "markdown",
   "id": "43814523-4993-42a0-892a-fbcb56118af4",
   "metadata": {},
   "source": [
    "## Encapsulación (de la información)\n",
    "\n",
    "Usando la POO en Python, podemos restringir el acceso a métodos y variables. Esto evita que los datos sean modificados directamente, lo que se llama encapsulación. En Python, denotamos los atributos privados utilizando el guión bajo como prefijo, es decir, simple _ o doble __.\n",
    "\n",
    "Veamos un ejemplo:"
   ]
  },
  {
   "cell_type": "code",
   "execution_count": 30,
   "id": "8df1e8b9-9e09-4e52-a10a-9d3323d7d3f5",
   "metadata": {},
   "outputs": [
    {
     "name": "stdout",
     "output_type": "stream",
     "text": [
      "Selling Price: 900\n",
      "Selling Price: 900\n",
      "Selling Price: 1000\n"
     ]
    }
   ],
   "source": [
    "class Computer:\n",
    "\n",
    "    def __init__(self):\n",
    "        self.__maxprice = 900\n",
    "\n",
    "    def sell(self):\n",
    "        print(\"Selling Price: {}\".format(self.__maxprice))\n",
    "\n",
    "    def setMaxPrice(self, price):        \n",
    "        self.__maxprice = price\n",
    "\n",
    "c = Computer()\n",
    "c.sell()\n",
    "\n",
    "# change the price\n",
    "c.__maxprice = 1000\n",
    "c.sell()\n",
    "\n",
    "# using setter function\n",
    "c.setMaxPrice(1000)\n",
    "c.sell()"
   ]
  },
  {
   "cell_type": "markdown",
   "id": "eb18b3e9-0b29-4113-a816-1808e8babf66",
   "metadata": {},
   "source": [
    "Aquí hemos intentado modificar el valor de __maxprice fuera de la clase. Sin embargo, como __maxprice es una variable privada, esta modificación no se ve en la salida (el atributo del objeto no ha sido modificado en realidad).\n",
    "\n",
    "Como se muestra, para cambiar el valor, tenemos que usar una función setter, es decir, setMaxPrice() que toma el precio como parámetro.\n",
    "\n",
    "La encapsulación es el proceso de impedir que los clientes accedan a determinadas propiedades, a las que sólo se puede acceder a través de métodos específicos.\n",
    "Los atributos privados son atributos inaccesibles, y la ocultación de información es el proceso de hacer privados determinados atributos. Esto permite controlar el espacio de estados que puede tomar un objeto y restringir el conjunto de valores que puede asignarse a un atributo por ejemplo:"
   ]
  },
  {
   "cell_type": "code",
   "execution_count": 23,
   "id": "af7d46b7-7fa7-40b6-9241-7970cf3c10b3",
   "metadata": {},
   "outputs": [
    {
     "name": "stdout",
     "output_type": "stream",
     "text": [
      "El precio debe ser positivo\n",
      "Selling Price: 900\n",
      "None\n"
     ]
    }
   ],
   "source": [
    "class Computer:\n",
    "\n",
    "    def __init__(self):\n",
    "        self.__maxprice = 900\n",
    "\n",
    "    def sell(self):\n",
    "        print(\"Selling Price: {}\".format(self.__maxprice))\n",
    "\n",
    "    def setMaxPrice(self, price):        \n",
    "        if price<=0:\n",
    "            raise RuntimeWarning(\"El precio debe ser positivo\")\n",
    "        else:\n",
    "            self.__maxprice = price\n",
    "            \n",
    "# Programa donde intentamos asignar un valor inválido al atributo de un objeto:            \n",
    "try:\n",
    "    gandalf=Computer()\n",
    "    gandalf.setMaxPrice(-200)\n",
    "except RuntimeWarning as e:\n",
    "    print(e)\n",
    "finally:\n",
    "    # Mostramos el precio que tiene realmente el computador:\n",
    "    print(gandalf.sell())"
   ]
  },
  {
   "cell_type": "markdown",
   "id": "b10d10fa-8260-487b-a80f-965cbedb7ea6",
   "metadata": {},
   "source": [
    "# Ejercicios:\n",
    "\n",
    "## Ejercicio 1:\n",
    "\n",
    "Crear una clase Vehiculo con tres atributos de instancia, aceleracion_máxima, velocidad_maxima y kilometraje.\n",
    "Crear un método que tome como paramentro un tiempo en segundos y calcule la distancia máxima que puede recorrer el vehículo en ese tiempo (tenga en cuenta que cuando el vehículo alcance la velocidad máxima ya no acelerará más):"
   ]
  }
 ],
 "metadata": {
  "kernelspec": {
   "display_name": "Python 3 (ipykernel)",
   "language": "python",
   "name": "python3"
  },
  "language_info": {
   "codemirror_mode": {
    "name": "ipython",
    "version": 3
   },
   "file_extension": ".py",
   "mimetype": "text/x-python",
   "name": "python",
   "nbconvert_exporter": "python",
   "pygments_lexer": "ipython3",
   "version": "3.9.7"
  }
 },
 "nbformat": 4,
 "nbformat_minor": 5
}
