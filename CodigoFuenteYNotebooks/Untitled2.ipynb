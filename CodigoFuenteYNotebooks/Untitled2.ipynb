{
 "cells": [
  {
   "cell_type": "markdown",
   "id": "63743f9b-be88-4ab2-b353-2d1fea5f16c5",
   "metadata": {},
   "source": [
    "# Colecciones de datos en python\n",
    "\n",
    "Las colecciones son estructura de datos que pueden almacenar más de un valor. \n",
    "\n",
    "## Listas\n",
    "El típo más simple de colección en python es la lista. Las listas en python se declaran enumerando los valores entre corchetes:\n",
    "\n"
   ]
  },
  {
   "cell_type": "code",
   "execution_count": 1,
   "id": "fb918008-3c57-4f09-a945-0d3426a41f43",
   "metadata": {},
   "outputs": [
    {
     "name": "stdout",
     "output_type": "stream",
     "text": [
      "['esto', 'es', 'una', 'lista', 'de', 'cadenas']\n",
      "esto\n",
      "es\n",
      "una\n",
      "lista\n",
      "de\n",
      "cadenas\n"
     ]
    }
   ],
   "source": [
    "lista=[\"esto\",\"es\",\"una\",\"lista\",\"de\",\"cadenas\"]\n",
    "print(lista)\n",
    "for palabra in lista:\n",
    "    print(palabra)"
   ]
  },
  {
   "cell_type": "markdown",
   "id": "6d9a2e69-fe5f-40ee-99ad-40f17a42db7f",
   "metadata": {},
   "source": [
    "Los datos que puede contener una lista pueden ser de distinto tipo:"
   ]
  },
  {
   "cell_type": "code",
   "execution_count": 2,
   "id": "10240a34-ac51-4759-a5d7-416e95ad8c2d",
   "metadata": {},
   "outputs": [
    {
     "name": "stdout",
     "output_type": "stream",
     "text": [
      "['hola', 2, True, 5.0]\n"
     ]
    }
   ],
   "source": [
    "datosVarios =[\"hola\",2,True,5.0]\n",
    "print(datosVarios)"
   ]
  },
  {
   "cell_type": "markdown",
   "id": "4b18881d-03d7-40cc-a891-1c3769fa2532",
   "metadata": {},
   "source": [
    "Por otro lado, poodemos especificar el tipo de datos que debe contener la lista:"
   ]
  },
  {
   "cell_type": "code",
   "execution_count": 3,
   "id": "54e25700-f418-4e89-b076-f3bba74d5934",
   "metadata": {},
   "outputs": [
    {
     "name": "stdout",
     "output_type": "stream",
     "text": [
      "[1, 2, 3, 5, 7]\n"
     ]
    }
   ],
   "source": [
    "listaDeEnteros:list[int]=[1,2,3,5,7]\n",
    "print(listaDeEnteros)"
   ]
  },
  {
   "cell_type": "markdown",
   "id": "3a8bea87-f10e-4694-83b2-b68b13ea239f",
   "metadata": {},
   "source": [
    "También podemos construir los elementos de una lista a través de un bucle for interno:"
   ]
  },
  {
   "cell_type": "code",
   "execution_count": 4,
   "id": "35a28ca6-6476-43c4-b074-d7c0f323e7cc",
   "metadata": {},
   "outputs": [
    {
     "name": "stdout",
     "output_type": "stream",
     "text": [
      "[1, 4, 9, 16, 25, 36, 49, 64, 81, 100]\n"
     ]
    }
   ],
   "source": [
    "cuadrados=[x*x for x in range(1,11)]\n",
    "print(cuadrados)"
   ]
  },
  {
   "cell_type": "markdown",
   "id": "b7d1d64c-c59f-4f00-bf10-dad26bcc70e9",
   "metadata": {},
   "source": [
    "Las listas en python son indexables mediante el operador '[]' (con el índice comenzando en la posición 0):"
   ]
  },
  {
   "cell_type": "code",
   "execution_count": 5,
   "id": "bffe248d-7492-40f3-8ba1-a53477b87ce6",
   "metadata": {},
   "outputs": [
    {
     "name": "stdout",
     "output_type": "stream",
     "text": [
      "1\n"
     ]
    }
   ],
   "source": [
    "print(cuadrados[0])"
   ]
  },
  {
   "cell_type": "markdown",
   "id": "2d1d14bc-1d60-4fc5-a140-489ce91a1c79",
   "metadata": {},
   "source": [
    "Podemos indexar de también desde el final usando índices negativos o usar rangos para seleccionar un subconjunto de elementos de la lista:"
   ]
  },
  {
   "cell_type": "code",
   "execution_count": 6,
   "id": "42e6e0d4-2333-45d8-9960-855c3813bf4b",
   "metadata": {},
   "outputs": [
    {
     "name": "stdout",
     "output_type": "stream",
     "text": [
      "100\n",
      "[9, 16]\n"
     ]
    }
   ],
   "source": [
    "print(cuadrados[-1])\n",
    "print(cuadrados[2:4])"
   ]
  },
  {
   "cell_type": "markdown",
   "id": "d1f5b7f3-14bb-4d5d-a1e2-79ff2deec8e2",
   "metadata": {},
   "source": [
    "Podemos añadir elementos a las listas con el método append y modificar los elementos de la lista:"
   ]
  },
  {
   "cell_type": "code",
   "execution_count": 7,
   "id": "948255b0-c62e-46d3-ad9a-c6d51d0ba228",
   "metadata": {},
   "outputs": [
    {
     "name": "stdout",
     "output_type": "stream",
     "text": [
      "[1, 4, 9, 16, 25, 36, 49, 64, 81, 100, 111]\n",
      "[1, 4, 9, 16, 25, 36, 49, 64, 81, 100, 144]\n"
     ]
    }
   ],
   "source": [
    "cuadrados.append(111)\n",
    "print(cuadrados)\n",
    "cuadrados[10]=12*12\n",
    "print(cuadrados)"
   ]
  },
  {
   "cell_type": "markdown",
   "id": "6369ef27-adbd-438e-b9d6-e69d3a9cbe5e",
   "metadata": {},
   "source": [
    "También podemos insertar elementos en una posición concreta de la lista mediante la función insert:"
   ]
  },
  {
   "cell_type": "code",
   "execution_count": null,
   "id": "02fdc589-c588-4815-9387-f39a6e791ad6",
   "metadata": {},
   "outputs": [],
   "source": [
    "cuadrados.insert("
   ]
  },
  {
   "cell_type": "markdown",
   "id": "d1a9825f-5d29-4f4a-b55c-1d0b2b3a5d0d",
   "metadata": {},
   "source": []
  }
 ],
 "metadata": {
  "kernelspec": {
   "display_name": "Python 3 (ipykernel)",
   "language": "python",
   "name": "python3"
  },
  "language_info": {
   "codemirror_mode": {
    "name": "ipython",
    "version": 3
   },
   "file_extension": ".py",
   "mimetype": "text/x-python",
   "name": "python",
   "nbconvert_exporter": "python",
   "pygments_lexer": "ipython3",
   "version": "3.9.7"
  }
 },
 "nbformat": 4,
 "nbformat_minor": 5
}
